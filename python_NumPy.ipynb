{
  "nbformat": 4,
  "nbformat_minor": 0,
  "metadata": {
    "colab": {
      "name": "python_NumPy.ipynb",
      "provenance": []
    },
    "kernelspec": {
      "name": "python3",
      "display_name": "Python 3"
    }
  },
  "cells": [
    {
      "cell_type": "code",
      "metadata": {
        "id": "FpcUAQfWuPjF"
      },
      "source": [
        "import numpy as np\r\n",
        "import sys"
      ],
      "execution_count": 2,
      "outputs": []
    },
    {
      "cell_type": "markdown",
      "metadata": {
        "id": "xd9vWXc3unUy"
      },
      "source": [
        "#BASICS"
      ]
    },
    {
      "cell_type": "code",
      "metadata": {
        "colab": {
          "base_uri": "https://localhost:8080/"
        },
        "id": "YEkhhDN8upak",
        "outputId": "87fd8136-75fa-4e09-e240-567e3b6321e6"
      },
      "source": [
        "#How to initialize Numy array\r\n",
        "a = np.array([1,2,3])\r\n",
        "print(a)\r\n",
        "print(\"......................................................\")\r\n",
        "b = np.array([[9.0,8.0,5.0],[4.3,1.0,3]])\r\n",
        "print(b)"
      ],
      "execution_count": null,
      "outputs": [
        {
          "output_type": "stream",
          "text": [
            "[1 2 3]\n",
            "......................................................\n",
            "[[9.  8.  5. ]\n",
            " [4.3 1.  3. ]]\n"
          ],
          "name": "stdout"
        }
      ]
    },
    {
      "cell_type": "code",
      "metadata": {
        "colab": {
          "base_uri": "https://localhost:8080/"
        },
        "id": "LNkxV8k7yDlv",
        "outputId": "dc4cc52f-7b52-4281-95f4-4ea516871286"
      },
      "source": [
        "#Get Dimension\r\n",
        "print(\"Dimension of a\",a.ndim)\r\n",
        "print(\"Dimension of b\",b.ndim)\r\n",
        "print(\"......................................................\")\r\n",
        "\r\n",
        "#Get Shape\r\n",
        "print(\"Shape of a\",a.shape)\r\n",
        "print(\"Shape of a\",b.shape)\r\n",
        "print(\"......................................................\")\r\n",
        "\r\n",
        "#Get to know how much memory occupied by numpy array\r\n",
        "#you can also assign \"dtype\" while creating new numpy array as dtype = in32/int16/int64 \r\n",
        "print(\"data type of a:\",a.dtype)\r\n",
        "print(\"data type of b:\",b.dtype)"
      ],
      "execution_count": null,
      "outputs": [
        {
          "output_type": "stream",
          "text": [
            "Dimension of a 1\n",
            "Dimension of b 2\n",
            "......................................................\n",
            "Shape of a (3,)\n",
            "Shape of a (2, 3)\n",
            "......................................................\n",
            "data type of a: int64\n",
            "data type of b: float64\n"
          ],
          "name": "stdout"
        }
      ]
    },
    {
      "cell_type": "markdown",
      "metadata": {
        "id": "5xXIjk_60Hwb"
      },
      "source": [
        "#Accessing/Changing specific elements, rows, columns etc"
      ]
    },
    {
      "cell_type": "code",
      "metadata": {
        "colab": {
          "base_uri": "https://localhost:8080/"
        },
        "id": "ea-TRMeQ0VSz",
        "outputId": "8d9a4df3-c317-4ad9-ab15-1355c1ae4af0"
      },
      "source": [
        "a = np.array([[1,2,3,4,5,6,7],[8,9,10,11,12,13,14]])\r\n",
        "print(a)"
      ],
      "execution_count": null,
      "outputs": [
        {
          "output_type": "stream",
          "text": [
            "[[ 1  2  3  4  5  6  7]\n",
            " [ 8  9 10 11 12 13 14]]\n"
          ],
          "name": "stdout"
        }
      ]
    },
    {
      "cell_type": "code",
      "metadata": {
        "colab": {
          "base_uri": "https://localhost:8080/"
        },
        "id": "tj4NZvgK0pVz",
        "outputId": "956a75a8-2f17-4ca0-b71b-0fa9c7574da9"
      },
      "source": [
        "#Get a specific elemets [row,col]\r\n",
        "print(a[1,5])\r\n",
        "print(a[1,-2])\r\n",
        "print(a[-1,5])"
      ],
      "execution_count": null,
      "outputs": [
        {
          "output_type": "stream",
          "text": [
            "13\n",
            "13\n",
            "13\n"
          ],
          "name": "stdout"
        }
      ]
    },
    {
      "cell_type": "code",
      "metadata": {
        "colab": {
          "base_uri": "https://localhost:8080/"
        },
        "id": "5N7GOcqg1JQp",
        "outputId": "d05b9ff7-572e-4202-edd9-bfe72412c3d3"
      },
      "source": [
        "#Get a specific row\r\n",
        "print(a[0,:])"
      ],
      "execution_count": null,
      "outputs": [
        {
          "output_type": "stream",
          "text": [
            "[1 2 3 4 5 6 7]\n"
          ],
          "name": "stdout"
        }
      ]
    },
    {
      "cell_type": "code",
      "metadata": {
        "colab": {
          "base_uri": "https://localhost:8080/"
        },
        "id": "MhaiPoxU1QnH",
        "outputId": "03f8db38-4c56-4cc2-d6f3-89f2d04b8ac1"
      },
      "source": [
        "#Get a specific columns\r\n",
        "a[:,2]"
      ],
      "execution_count": null,
      "outputs": [
        {
          "output_type": "execute_result",
          "data": {
            "text/plain": [
              "array([ 3, 10])"
            ]
          },
          "metadata": {
            "tags": []
          },
          "execution_count": 31
        }
      ]
    },
    {
      "cell_type": "code",
      "metadata": {
        "colab": {
          "base_uri": "https://localhost:8080/"
        },
        "id": "alrLSQZL1fWw",
        "outputId": "94250b5c-9954-4e27-d226-3a925fc12385"
      },
      "source": [
        "#Getting a little more fancy [StartIndex:EndIndex:StepSize]\r\n",
        "\r\n",
        "print(a[0,1:6])\r\n",
        "print(a[:,1::2])"
      ],
      "execution_count": null,
      "outputs": [
        {
          "output_type": "stream",
          "text": [
            "[2 3 4 5 6]\n",
            "[[ 2  4  6]\n",
            " [ 9 11 13]]\n"
          ],
          "name": "stdout"
        }
      ]
    },
    {
      "cell_type": "code",
      "metadata": {
        "colab": {
          "base_uri": "https://localhost:8080/"
        },
        "id": "bgwb5cbj2C8c",
        "outputId": "8608e6ea-7ce6-4402-d4c8-df3dd3e2c8b6"
      },
      "source": [
        "#To change something\r\n",
        "a[1,5] = 1000\r\n",
        "print(a)\r\n",
        "a[:,2] = 5000\r\n",
        "print(a)"
      ],
      "execution_count": null,
      "outputs": [
        {
          "output_type": "stream",
          "text": [
            "[[   1    2    3    4    5    6    7]\n",
            " [   8    9   10   11   12 1000   14]]\n",
            "[[   1    2    3    4    5    6    7]\n",
            " [   8    9   10   11   12 1000   14]]\n",
            "[[   1    2 5000    4    5    6    7]\n",
            " [   8    9 5000   11   12 1000   14]]\n"
          ],
          "name": "stdout"
        }
      ]
    },
    {
      "cell_type": "markdown",
      "metadata": {
        "id": "_yUXJpOl3kna"
      },
      "source": [
        "#3D example"
      ]
    },
    {
      "cell_type": "code",
      "metadata": {
        "colab": {
          "base_uri": "https://localhost:8080/"
        },
        "id": "aov-0u3t3ogN",
        "outputId": "312b2edf-62d7-4fd1-f640-67f541cdcd80"
      },
      "source": [
        "b= np.array([[[1,2],[3,4]],[[5,6],[7,8]]])\r\n",
        "b"
      ],
      "execution_count": null,
      "outputs": [
        {
          "output_type": "execute_result",
          "data": {
            "text/plain": [
              "array([[[1, 2],\n",
              "        [3, 4]],\n",
              "\n",
              "       [[5, 6],\n",
              "        [7, 8]]])"
            ]
          },
          "metadata": {
            "tags": []
          },
          "execution_count": 38
        }
      ]
    },
    {
      "cell_type": "code",
      "metadata": {
        "colab": {
          "base_uri": "https://localhost:8080/"
        },
        "id": "7L2TrR9P5fy8",
        "outputId": "2c83e5cf-bc0d-43ba-bbcd-bf141840bd8f"
      },
      "source": [
        "#Get Specific Element\r\n",
        "print(b[0,1,1])\r\n"
      ],
      "execution_count": null,
      "outputs": [
        {
          "output_type": "stream",
          "text": [
            "4\n"
          ],
          "name": "stdout"
        }
      ]
    },
    {
      "cell_type": "code",
      "metadata": {
        "colab": {
          "base_uri": "https://localhost:8080/"
        },
        "id": "NVLikQw55vXh",
        "outputId": "d5e9cc07-8662-4177-87a4-df69de4c9d7c"
      },
      "source": [
        "#Replace\r\n",
        "b[:,1,:] = [[9,9],[8,8]]\r\n",
        "b"
      ],
      "execution_count": null,
      "outputs": [
        {
          "output_type": "execute_result",
          "data": {
            "text/plain": [
              "array([[[1, 2],\n",
              "        [9, 9]],\n",
              "\n",
              "       [[5, 6],\n",
              "        [8, 8]]])"
            ]
          },
          "metadata": {
            "tags": []
          },
          "execution_count": 44
        }
      ]
    },
    {
      "cell_type": "markdown",
      "metadata": {
        "id": "pViXXPbe677O"
      },
      "source": [
        "#Initializing Different Types of Arrays"
      ]
    },
    {
      "cell_type": "code",
      "metadata": {
        "colab": {
          "base_uri": "https://localhost:8080/"
        },
        "id": "lDu5gdf27B26",
        "outputId": "f2a12e5c-eeed-4b4c-ef7a-6423fabada0e"
      },
      "source": [
        "#All 0s matrix\r\n",
        "c  = np.zeros(5) #One dimension\r\n",
        "d = np.zeros((2,3)) #two Dimension\r\n",
        "e = np.zeros((2,3,3)) #Three dimension\r\n",
        "print(c)\r\n",
        "print(d)\r\n",
        "print(e)"
      ],
      "execution_count": null,
      "outputs": [
        {
          "output_type": "stream",
          "text": [
            "[0. 0. 0. 0. 0.]\n",
            "[[0. 0. 0.]\n",
            " [0. 0. 0.]]\n",
            "[[[0. 0. 0.]\n",
            "  [0. 0. 0.]\n",
            "  [0. 0. 0.]]\n",
            "\n",
            " [[0. 0. 0.]\n",
            "  [0. 0. 0.]\n",
            "  [0. 0. 0.]]]\n"
          ],
          "name": "stdout"
        }
      ]
    },
    {
      "cell_type": "code",
      "metadata": {
        "colab": {
          "base_uri": "https://localhost:8080/"
        },
        "id": "UDgARRjf_2ns",
        "outputId": "c9b22a7f-00aa-41f3-aacb-2429ee4d8884"
      },
      "source": [
        "#All 1s Matrix\r\n",
        "f = np.ones((4,2,2), dtype='int32')\r\n",
        "f\r\n"
      ],
      "execution_count": null,
      "outputs": [
        {
          "output_type": "execute_result",
          "data": {
            "text/plain": [
              "array([[[1, 1],\n",
              "        [1, 1]],\n",
              "\n",
              "       [[1, 1],\n",
              "        [1, 1]],\n",
              "\n",
              "       [[1, 1],\n",
              "        [1, 1]],\n",
              "\n",
              "       [[1, 1],\n",
              "        [1, 1]]], dtype=int32)"
            ]
          },
          "metadata": {
            "tags": []
          },
          "execution_count": 53
        }
      ]
    },
    {
      "cell_type": "code",
      "metadata": {
        "colab": {
          "base_uri": "https://localhost:8080/"
        },
        "id": "9Hu0CIiUAJcD",
        "outputId": "b6800aee-8a6a-4795-db72-f2e6c12ee58b"
      },
      "source": [
        "#Any other Number\r\n",
        "g = np.full((2,2),99)\r\n",
        "g"
      ],
      "execution_count": null,
      "outputs": [
        {
          "output_type": "execute_result",
          "data": {
            "text/plain": [
              "array([[99, 99],\n",
              "       [99, 99]])"
            ]
          },
          "metadata": {
            "tags": []
          },
          "execution_count": 55
        }
      ]
    },
    {
      "cell_type": "code",
      "metadata": {
        "colab": {
          "base_uri": "https://localhost:8080/"
        },
        "id": "mZK0VsSOAVuk",
        "outputId": "182d7e6c-54f5-4841-943e-7c77e23a46b2"
      },
      "source": [
        "#Any other number(full_like)\r\n",
        "h = np.full_like(g,44)\r\n",
        "h"
      ],
      "execution_count": null,
      "outputs": [
        {
          "output_type": "execute_result",
          "data": {
            "text/plain": [
              "array([[44, 44],\n",
              "       [44, 44]])"
            ]
          },
          "metadata": {
            "tags": []
          },
          "execution_count": 57
        }
      ]
    },
    {
      "cell_type": "code",
      "metadata": {
        "colab": {
          "base_uri": "https://localhost:8080/"
        },
        "id": "TKVz0jAeAzPY",
        "outputId": "8f2d10c2-491b-495c-a9f5-8a1ce235dc45"
      },
      "source": [
        "#Random Decimal numbers between 0-1\r\n",
        "i = np.random.rand(4,2,3)\r\n",
        "i"
      ],
      "execution_count": null,
      "outputs": [
        {
          "output_type": "execute_result",
          "data": {
            "text/plain": [
              "array([[[0.44735121, 0.87003733, 0.34768584],\n",
              "        [0.61543894, 0.12123858, 0.11492033]],\n",
              "\n",
              "       [[0.21763229, 0.64009018, 0.96767518],\n",
              "        [0.53853257, 0.45034416, 0.43352085]],\n",
              "\n",
              "       [[0.69142741, 0.90031137, 0.40467513],\n",
              "        [0.87750074, 0.67804126, 0.9817577 ]],\n",
              "\n",
              "       [[0.67867957, 0.40553395, 0.5748594 ],\n",
              "        [0.77253542, 0.50298477, 0.24735797]]])"
            ]
          },
          "metadata": {
            "tags": []
          },
          "execution_count": 60
        }
      ]
    },
    {
      "cell_type": "code",
      "metadata": {
        "colab": {
          "base_uri": "https://localhost:8080/"
        },
        "id": "l6k0zw1rBOwh",
        "outputId": "d197b45e-e396-4ab8-b0c0-2f748a000ecc"
      },
      "source": [
        "#Random Integer values\r\n",
        "j = np.random.randint(7, size = (3,3)) #here we are printing numbers with in 0-7\r\n",
        "print(j)\r\n",
        "print(\"__________________________________________________________________________\")\r\n",
        " \r\n",
        "jj = np.random.randint(3,7, size = (3,3)) #here we are printing numbers with in 3-7\r\n",
        "print(jj)"
      ],
      "execution_count": null,
      "outputs": [
        {
          "output_type": "stream",
          "text": [
            "[[2 4 3]\n",
            " [3 1 4]\n",
            " [3 6 3]]\n",
            "__________________________________________________________________________\n",
            "[[5 6 4]\n",
            " [4 4 4]\n",
            " [5 3 6]]\n"
          ],
          "name": "stdout"
        }
      ]
    },
    {
      "cell_type": "code",
      "metadata": {
        "colab": {
          "base_uri": "https://localhost:8080/"
        },
        "id": "qEby6vEoCbJe",
        "outputId": "fef67d50-b512-4d5b-8673-6ea40818c4d8"
      },
      "source": [
        "#Identity matrix\r\n",
        "k = np.identity(4)\r\n",
        "k"
      ],
      "execution_count": null,
      "outputs": [
        {
          "output_type": "execute_result",
          "data": {
            "text/plain": [
              "array([[1., 0., 0., 0.],\n",
              "       [0., 1., 0., 0.],\n",
              "       [0., 0., 1., 0.],\n",
              "       [0., 0., 0., 1.]])"
            ]
          },
          "metadata": {
            "tags": []
          },
          "execution_count": 67
        }
      ]
    },
    {
      "cell_type": "code",
      "metadata": {
        "colab": {
          "base_uri": "https://localhost:8080/"
        },
        "id": "MJKJ5T_GDFq5",
        "outputId": "6c15be9a-3f4a-4669-d75e-e3e5c9a0bcba"
      },
      "source": [
        "#To Repeat the values inside matrix\r\n",
        "\r\n",
        "l = np.array([1,2,3])\r\n",
        "repeat_l = np.repeat(l,3,axis = 0)\r\n",
        "print(repeat_l)\r\n"
      ],
      "execution_count": null,
      "outputs": [
        {
          "output_type": "stream",
          "text": [
            "[1 1 1 2 2 2 3 3 3]\n"
          ],
          "name": "stdout"
        }
      ]
    },
    {
      "cell_type": "code",
      "metadata": {
        "colab": {
          "base_uri": "https://localhost:8080/"
        },
        "id": "ZF218dqLD2v5",
        "outputId": "48d1ae99-6cf3-4315-b31c-73f5b3177060"
      },
      "source": [
        "#LEts do it with 3D\r\n",
        "l = np.array([[1,2,3]])\r\n",
        "repeat_ll = np.repeat(l,3,axis = 0)\r\n",
        "print(repeat_ll)"
      ],
      "execution_count": null,
      "outputs": [
        {
          "output_type": "stream",
          "text": [
            "[[1 2 3]\n",
            " [1 2 3]\n",
            " [1 2 3]]\n"
          ],
          "name": "stdout"
        }
      ]
    },
    {
      "cell_type": "markdown",
      "metadata": {
        "id": "PMYA_MZ8ExHJ"
      },
      "source": [
        "#Example\r\n",
        "#output = \r\n",
        "#[[1,1,1,1,1]\r\n",
        "#[1,0,0,0,1]\r\n",
        "#[1,0,9,0,1]\r\n",
        "#[1,0,0,0,1]\r\n",
        "#[1,1,1,1,1]]"
      ]
    },
    {
      "cell_type": "code",
      "metadata": {
        "colab": {
          "base_uri": "https://localhost:8080/"
        },
        "id": "-y2Nn9E3ERbp",
        "outputId": "f40e17d6-5485-4217-e206-4c343f3cb10b"
      },
      "source": [
        "ones = np.ones((5,5), dtype = \"int32\")\r\n",
        "print(ones)\r\n",
        "\r\n",
        "print(\"++++++++++++++++++++++++++++++++++++++++++++\")\r\n",
        "\r\n",
        "zero = np.zeros((3,3), dtype = \"int32\")\r\n",
        "zero[1,1] = 9\r\n",
        "print(zero)\r\n",
        "\r\n",
        "print(\"++++++++++++++++++++++++++++++++++++++++++++\")\r\n",
        "\r\n",
        "ones[1:4,1:4]= zero\r\n",
        "print(ones)"
      ],
      "execution_count": null,
      "outputs": [
        {
          "output_type": "stream",
          "text": [
            "[[1 1 1 1 1]\n",
            " [1 1 1 1 1]\n",
            " [1 1 1 1 1]\n",
            " [1 1 1 1 1]\n",
            " [1 1 1 1 1]]\n",
            "++++++++++++++++++++++++++++++++++++++++++++\n",
            "[[0 0 0]\n",
            " [0 9 0]\n",
            " [0 0 0]]\n",
            "++++++++++++++++++++++++++++++++++++++++++++\n",
            "[[1 1 1 1 1]\n",
            " [1 0 0 0 1]\n",
            " [1 0 9 0 1]\n",
            " [1 0 0 0 1]\n",
            " [1 1 1 1 1]]\n"
          ],
          "name": "stdout"
        }
      ]
    },
    {
      "cell_type": "markdown",
      "metadata": {
        "id": "vQF5ZvtsG2eo"
      },
      "source": [
        "#Be Careful when copying arrays!!!"
      ]
    },
    {
      "cell_type": "code",
      "metadata": {
        "colab": {
          "base_uri": "https://localhost:8080/"
        },
        "id": "ESKWgAvqG__K",
        "outputId": "7e796a0a-1924-47f2-f27d-e697af72cd3f"
      },
      "source": [
        "#Without using COPY function\r\n",
        "\r\n",
        "a = np.array([1,2,3])\r\n",
        "b = a\r\n",
        "b[0] = 100\r\n",
        "print(b)\r\n",
        "print(a)\r\n",
        "\r\n",
        "#Values of a is also changed because of numpy standard "
      ],
      "execution_count": null,
      "outputs": [
        {
          "output_type": "stream",
          "text": [
            "[100   2   3]\n",
            "[100   2   3]\n"
          ],
          "name": "stdout"
        }
      ]
    },
    {
      "cell_type": "code",
      "metadata": {
        "colab": {
          "base_uri": "https://localhost:8080/"
        },
        "id": "ZuyTPz7BHpmR",
        "outputId": "f3ebe271-fd14-4e45-f978-f9ceb62c24a4"
      },
      "source": [
        "#Using COPY function\r\n",
        "a = np.array([1,2,3])\r\n",
        "b = a.copy()\r\n",
        "b[0] = 100\r\n",
        "print(b)\r\n",
        "print(a)\r\n",
        "#Values remains same for a"
      ],
      "execution_count": null,
      "outputs": [
        {
          "output_type": "stream",
          "text": [
            "[100   2   3]\n",
            "[1 2 3]\n"
          ],
          "name": "stdout"
        }
      ]
    },
    {
      "cell_type": "markdown",
      "metadata": {
        "id": "K-uzfvfrH7kq"
      },
      "source": [
        "#Mathematics"
      ]
    },
    {
      "cell_type": "code",
      "metadata": {
        "colab": {
          "base_uri": "https://localhost:8080/"
        },
        "id": "mnGpoTXGH9f3",
        "outputId": "3751c2cd-b029-407a-938f-e64e87d78db9"
      },
      "source": [
        "a = np.array([1,2,3,4,5])\r\n",
        "print(a)"
      ],
      "execution_count": null,
      "outputs": [
        {
          "output_type": "stream",
          "text": [
            "[1 2 3 4 5]\n"
          ],
          "name": "stdout"
        }
      ]
    },
    {
      "cell_type": "code",
      "metadata": {
        "colab": {
          "base_uri": "https://localhost:8080/"
        },
        "id": "IFCpk7wnIiGE",
        "outputId": "457344ea-2b7d-4db9-de93-c485908fda31"
      },
      "source": [
        "a+2"
      ],
      "execution_count": null,
      "outputs": [
        {
          "output_type": "execute_result",
          "data": {
            "text/plain": [
              "array([3, 4, 5, 6, 7])"
            ]
          },
          "metadata": {
            "tags": []
          },
          "execution_count": 98
        }
      ]
    },
    {
      "cell_type": "code",
      "metadata": {
        "colab": {
          "base_uri": "https://localhost:8080/"
        },
        "id": "rUsn2GfyIr_y",
        "outputId": "07d1bac5-f813-40a1-f0b6-d59c8d008201"
      },
      "source": [
        "a-2"
      ],
      "execution_count": null,
      "outputs": [
        {
          "output_type": "execute_result",
          "data": {
            "text/plain": [
              "array([-1,  0,  1,  2,  3])"
            ]
          },
          "metadata": {
            "tags": []
          },
          "execution_count": 99
        }
      ]
    },
    {
      "cell_type": "code",
      "metadata": {
        "colab": {
          "base_uri": "https://localhost:8080/"
        },
        "id": "_EMgjxS7IuWo",
        "outputId": "3d6ad0ad-2c75-4a63-ec28-f5da2556b265"
      },
      "source": [
        "a*2"
      ],
      "execution_count": null,
      "outputs": [
        {
          "output_type": "execute_result",
          "data": {
            "text/plain": [
              "array([ 2,  4,  6,  8, 10])"
            ]
          },
          "metadata": {
            "tags": []
          },
          "execution_count": 100
        }
      ]
    },
    {
      "cell_type": "code",
      "metadata": {
        "colab": {
          "base_uri": "https://localhost:8080/"
        },
        "id": "Ke2RYwt_Ixot",
        "outputId": "5b39d5d1-8e01-4090-86bb-63e118e2f737"
      },
      "source": [
        "a/2"
      ],
      "execution_count": null,
      "outputs": [
        {
          "output_type": "execute_result",
          "data": {
            "text/plain": [
              "array([0.5, 1. , 1.5, 2. , 2.5])"
            ]
          },
          "metadata": {
            "tags": []
          },
          "execution_count": 101
        }
      ]
    },
    {
      "cell_type": "code",
      "metadata": {
        "colab": {
          "base_uri": "https://localhost:8080/"
        },
        "id": "FdWOxPxPI_zD",
        "outputId": "4081b78a-0548-49c9-80e4-657ee406f49b"
      },
      "source": [
        "b = np.array([1,1,1,1,1])\r\n",
        "a = a+b\r\n",
        "a"
      ],
      "execution_count": null,
      "outputs": [
        {
          "output_type": "execute_result",
          "data": {
            "text/plain": [
              "array([2, 3, 4, 5, 6])"
            ]
          },
          "metadata": {
            "tags": []
          },
          "execution_count": 102
        }
      ]
    },
    {
      "cell_type": "code",
      "metadata": {
        "colab": {
          "base_uri": "https://localhost:8080/"
        },
        "id": "EPhdQy8mJKJo",
        "outputId": "4aa1513a-48ad-4e76-ca1e-a8026a2d0e8a"
      },
      "source": [
        "#Take the sin/cos\r\n",
        "np.sin(a)"
      ],
      "execution_count": null,
      "outputs": [
        {
          "output_type": "execute_result",
          "data": {
            "text/plain": [
              "array([ 0.90929743,  0.14112001, -0.7568025 , -0.95892427, -0.2794155 ])"
            ]
          },
          "metadata": {
            "tags": []
          },
          "execution_count": 103
        }
      ]
    },
    {
      "cell_type": "markdown",
      "metadata": {
        "id": "RBstBJTcJ-N_"
      },
      "source": [
        "#Linear Algebra\r\n"
      ]
    },
    {
      "cell_type": "code",
      "metadata": {
        "colab": {
          "base_uri": "https://localhost:8080/"
        },
        "id": "84T1KSt3KBPX",
        "outputId": "f009befe-f820-4164-e8af-336000286345"
      },
      "source": [
        "a = np.ones((2,3))\r\n",
        "print(a)\r\n",
        "\r\n",
        "b = np.full((3,2),2)\r\n",
        "print(b)\r\n",
        "\r\n",
        "#a's column should be equal to b's rows\r\n",
        "#We cant multiply both arrays directly\r\n",
        "c = np.matmul(a,b)\r\n",
        "c"
      ],
      "execution_count": null,
      "outputs": [
        {
          "output_type": "stream",
          "text": [
            "[[1. 1. 1.]\n",
            " [1. 1. 1.]]\n",
            "[[2 2]\n",
            " [2 2]\n",
            " [2 2]]\n"
          ],
          "name": "stdout"
        },
        {
          "output_type": "execute_result",
          "data": {
            "text/plain": [
              "array([[6., 6.],\n",
              "       [6., 6.]])"
            ]
          },
          "metadata": {
            "tags": []
          },
          "execution_count": 104
        }
      ]
    },
    {
      "cell_type": "markdown",
      "metadata": {
        "id": "TF6qtQpRMwim"
      },
      "source": [
        "#The determinant of a matrix is a special number that can be calculated from a square matrix.\r\n",
        "\r\n",
        "####A Matrix is an array of numbers:\r\n",
        "\r\n",
        "####A Matrix = [3,8\r\n",
        "####            4,6]\r\n",
        "####(This one has 2 Rows and 2 Columns)\r\n",
        "\r\n",
        "####The determinant of that matrix is:\r\n",
        "\r\n",
        "####3×6 − 8×4 = 18 − 32 = −14\r\n",
        "\r\n",
        "Reference - https://www.mathsisfun.com/algebra/matrix-determinant.html"
      ]
    },
    {
      "cell_type": "code",
      "metadata": {
        "colab": {
          "base_uri": "https://localhost:8080/"
        },
        "id": "lXoegrJnMRdl",
        "outputId": "29da25db-90da-43f4-cc8f-6b6cd0deeea9"
      },
      "source": [
        "#Find the Determinant\r\n",
        "d=np.identity(3)\r\n",
        "print(d)\r\n",
        "np.linalg.det(d)"
      ],
      "execution_count": null,
      "outputs": [
        {
          "output_type": "stream",
          "text": [
            "[[1. 0. 0.]\n",
            " [0. 1. 0.]\n",
            " [0. 0. 1.]]\n"
          ],
          "name": "stdout"
        },
        {
          "output_type": "execute_result",
          "data": {
            "text/plain": [
              "1.0"
            ]
          },
          "metadata": {
            "tags": []
          },
          "execution_count": 110
        }
      ]
    },
    {
      "cell_type": "markdown",
      "metadata": {
        "id": "cJc0cLfEOE2u"
      },
      "source": [
        "#Lot more can be Done\r\n",
        "\r\n",
        "####Determinant\r\n",
        "####Trace\r\n",
        "####Singular Vector Decomposition\r\n",
        "####Eigenvalues\r\n",
        "####Matrix Norm\r\n",
        "####Inverse\r\n",
        "####Etc.."
      ]
    },
    {
      "cell_type": "markdown",
      "metadata": {
        "id": "0Da00kQEOauk"
      },
      "source": [
        "#Statistics"
      ]
    },
    {
      "cell_type": "code",
      "metadata": {
        "colab": {
          "base_uri": "https://localhost:8080/"
        },
        "id": "QF2Mdgg_OcgZ",
        "outputId": "f3132c7c-4590-477a-9d33-b79b8aefe232"
      },
      "source": [
        "stats = np.array([[1,2,3],[4,5,6]])\r\n",
        "stats"
      ],
      "execution_count": null,
      "outputs": [
        {
          "output_type": "execute_result",
          "data": {
            "text/plain": [
              "array([[1, 2, 3],\n",
              "       [4, 5, 6]])"
            ]
          },
          "metadata": {
            "tags": []
          },
          "execution_count": 117
        }
      ]
    },
    {
      "cell_type": "code",
      "metadata": {
        "colab": {
          "base_uri": "https://localhost:8080/"
        },
        "id": "jFDn8qMvOmd0",
        "outputId": "d623d6a7-8ab6-495a-ec3d-35101015b7e2"
      },
      "source": [
        "np.min(stats)"
      ],
      "execution_count": null,
      "outputs": [
        {
          "output_type": "execute_result",
          "data": {
            "text/plain": [
              "1"
            ]
          },
          "metadata": {
            "tags": []
          },
          "execution_count": 118
        }
      ]
    },
    {
      "cell_type": "code",
      "metadata": {
        "colab": {
          "base_uri": "https://localhost:8080/"
        },
        "id": "kwzYGEjXOxMV",
        "outputId": "3b87e083-b364-481a-e471-0289bbe78ccd"
      },
      "source": [
        "np.min(stats,axis=1) #Will give all minimum values of a rows"
      ],
      "execution_count": null,
      "outputs": [
        {
          "output_type": "execute_result",
          "data": {
            "text/plain": [
              "array([1, 4])"
            ]
          },
          "metadata": {
            "tags": []
          },
          "execution_count": 120
        }
      ]
    },
    {
      "cell_type": "code",
      "metadata": {
        "colab": {
          "base_uri": "https://localhost:8080/"
        },
        "id": "h62YiKhgOprY",
        "outputId": "3b37e1b2-90ed-4075-a731-de380071b6f0"
      },
      "source": [
        "np.max(stats)"
      ],
      "execution_count": null,
      "outputs": [
        {
          "output_type": "execute_result",
          "data": {
            "text/plain": [
              "6"
            ]
          },
          "metadata": {
            "tags": []
          },
          "execution_count": 113
        }
      ]
    },
    {
      "cell_type": "code",
      "metadata": {
        "colab": {
          "base_uri": "https://localhost:8080/"
        },
        "id": "XXFa6pgIPVy-",
        "outputId": "7ea33876-5342-4a0f-c473-b59855b673d7"
      },
      "source": [
        "np.sum(stats) #Can use axis"
      ],
      "execution_count": null,
      "outputs": [
        {
          "output_type": "execute_result",
          "data": {
            "text/plain": [
              "21"
            ]
          },
          "metadata": {
            "tags": []
          },
          "execution_count": 121
        }
      ]
    },
    {
      "cell_type": "markdown",
      "metadata": {
        "id": "9suE4fOKPaZO"
      },
      "source": [
        "#Reorganizing Arrays"
      ]
    },
    {
      "cell_type": "code",
      "metadata": {
        "colab": {
          "base_uri": "https://localhost:8080/"
        },
        "id": "Ta4wCpIrPd8c",
        "outputId": "d5ca1683-fc99-4452-ea2c-fba5da6e0efa"
      },
      "source": [
        "before = np.array([[1,2,3,4],[5,6,7,8]])\r\n",
        "print(before)\r\n",
        "print(\"shape:\",before.shape)"
      ],
      "execution_count": null,
      "outputs": [
        {
          "output_type": "stream",
          "text": [
            "[[1 2 3 4]\n",
            " [5 6 7 8]]\n",
            "shape: (2, 4)\n"
          ],
          "name": "stdout"
        }
      ]
    },
    {
      "cell_type": "code",
      "metadata": {
        "colab": {
          "base_uri": "https://localhost:8080/"
        },
        "id": "2_QlGgq3Ux6C",
        "outputId": "6b6fb1bc-802b-4932-c530-012377ab6536"
      },
      "source": [
        "#Reshape the matrix\r\n",
        "\r\n",
        "after = before.reshape((8,1))\r\n",
        "after1 = before.reshape((4,2))\r\n",
        "after2 = before.reshape((2,2,2))\r\n",
        "print(after)\r\n",
        "print(after1)\r\n",
        "print(after2)"
      ],
      "execution_count": null,
      "outputs": [
        {
          "output_type": "stream",
          "text": [
            "[[1]\n",
            " [2]\n",
            " [3]\n",
            " [4]\n",
            " [5]\n",
            " [6]\n",
            " [7]\n",
            " [8]]\n",
            "[[1 2]\n",
            " [3 4]\n",
            " [5 6]\n",
            " [7 8]]\n",
            "[[[1 2]\n",
            "  [3 4]]\n",
            "\n",
            " [[5 6]\n",
            "  [7 8]]]\n"
          ],
          "name": "stdout"
        }
      ]
    },
    {
      "cell_type": "code",
      "metadata": {
        "colab": {
          "base_uri": "https://localhost:8080/"
        },
        "id": "c7_2j-BhVB-S",
        "outputId": "da1dcd4d-a1ac-466f-e973-2b26fef9a8e4"
      },
      "source": [
        "#Vertically stacking vectors\r\n",
        "\r\n",
        "v1 = np.array([1,2,3,4])\r\n",
        "v2 = np.array([5,6,7,8])\r\n",
        "\r\n",
        "np.vstack([v1,v2])"
      ],
      "execution_count": null,
      "outputs": [
        {
          "output_type": "execute_result",
          "data": {
            "text/plain": [
              "array([[1, 2, 3, 4],\n",
              "       [5, 6, 7, 8]])"
            ]
          },
          "metadata": {
            "tags": []
          },
          "execution_count": 129
        }
      ]
    },
    {
      "cell_type": "code",
      "metadata": {
        "colab": {
          "base_uri": "https://localhost:8080/"
        },
        "id": "40MjI0ZwVtw4",
        "outputId": "8098f2b9-5064-4fec-9e0f-2eecaddd667b"
      },
      "source": [
        "#You can repeat stacking\r\n",
        "np.vstack([v1,v2,v1,v2,v2])"
      ],
      "execution_count": null,
      "outputs": [
        {
          "output_type": "execute_result",
          "data": {
            "text/plain": [
              "array([[1, 2, 3, 4],\n",
              "       [5, 6, 7, 8],\n",
              "       [1, 2, 3, 4],\n",
              "       [5, 6, 7, 8],\n",
              "       [5, 6, 7, 8]])"
            ]
          },
          "metadata": {
            "tags": []
          },
          "execution_count": 131
        }
      ]
    },
    {
      "cell_type": "code",
      "metadata": {
        "colab": {
          "base_uri": "https://localhost:8080/"
        },
        "id": "3CdA6k0LV6xj",
        "outputId": "f6247f95-ce03-4cf4-b5ae-04cd1a599491"
      },
      "source": [
        "#Horizontal stacking\r\n",
        "h1 = np.ones((2,4))\r\n",
        "h2 = np.zeros((2,2))\r\n",
        "\r\n",
        "print(h1)\r\n",
        "print(\"_______________________________________________________________________________\")\r\n",
        "print(h2)\r\n",
        "print(\"_______________________________________________________________________________\")\r\n",
        "np.hstack((h1,h2))"
      ],
      "execution_count": null,
      "outputs": [
        {
          "output_type": "stream",
          "text": [
            "[[1. 1. 1. 1.]\n",
            " [1. 1. 1. 1.]]\n",
            "_______________________________________________________________________________\n",
            "[[0. 0.]\n",
            " [0. 0.]]\n",
            "_______________________________________________________________________________\n"
          ],
          "name": "stdout"
        },
        {
          "output_type": "execute_result",
          "data": {
            "text/plain": [
              "array([[1., 1., 1., 1., 0., 0.],\n",
              "       [1., 1., 1., 1., 0., 0.]])"
            ]
          },
          "metadata": {
            "tags": []
          },
          "execution_count": 134
        }
      ]
    },
    {
      "cell_type": "markdown",
      "metadata": {
        "id": "oDb0IU8FWdHI"
      },
      "source": [
        "#Miscellaneous \r\n",
        "\r\n",
        "####Load Data from File"
      ]
    },
    {
      "cell_type": "code",
      "metadata": {
        "colab": {
          "resources": {
            "http://localhost:8080/nbextensions/google.colab/files.js": {
              "data": "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",
              "ok": true,
              "headers": [
                [
                  "content-type",
                  "application/javascript"
                ]
              ],
              "status": 200,
              "status_text": ""
            }
          },
          "base_uri": "https://localhost:8080/",
          "height": 73
        },
        "id": "pQpXBjw0WkZy",
        "outputId": "3d36bba4-4746-493b-9d2a-15ec8aa339fc"
      },
      "source": [
        "from google.colab import files\r\n",
        "uploaded = files.upload()\r\n"
      ],
      "execution_count": null,
      "outputs": [
        {
          "output_type": "display_data",
          "data": {
            "text/html": [
              "\n",
              "     <input type=\"file\" id=\"files-f52e5b12-c5fe-48a1-be61-1010dae6f32f\" name=\"files[]\" multiple disabled\n",
              "        style=\"border:none\" />\n",
              "     <output id=\"result-f52e5b12-c5fe-48a1-be61-1010dae6f32f\">\n",
              "      Upload widget is only available when the cell has been executed in the\n",
              "      current browser session. Please rerun this cell to enable.\n",
              "      </output>\n",
              "      <script src=\"/nbextensions/google.colab/files.js\"></script> "
            ],
            "text/plain": [
              "<IPython.core.display.HTML object>"
            ]
          },
          "metadata": {
            "tags": []
          }
        },
        {
          "output_type": "stream",
          "text": [
            "Saving data_numpy.txt to data_numpy.txt\n"
          ],
          "name": "stdout"
        }
      ]
    },
    {
      "cell_type": "code",
      "metadata": {
        "colab": {
          "base_uri": "https://localhost:8080/"
        },
        "id": "84rl5IjzYBQN",
        "outputId": "f2131cf2-b142-4bd9-a26b-27f834d70a45"
      },
      "source": [
        "uploaded"
      ],
      "execution_count": null,
      "outputs": [
        {
          "output_type": "execute_result",
          "data": {
            "text/plain": [
              "{'data_numpy.txt': b'1,13,21,11,196,175,4,3,1,34,1,6,1,3685\\r\\n45,3,1,53,2,6,2,7,3,5,3,2587,3,46,6,13\\r\\n52,3,6,52,5,63,5,63,6,4,8,9,40,5297,52'}"
            ]
          },
          "metadata": {
            "tags": []
          },
          "execution_count": 140
        }
      ]
    },
    {
      "cell_type": "code",
      "metadata": {
        "colab": {
          "base_uri": "https://localhost:8080/"
        },
        "id": "vUbCPvFVXakI",
        "outputId": "3d5725d5-8898-4c4a-cf4b-fb8041005d1e"
      },
      "source": [
        "data = np.array([[1,13,21,11,196],[2587,3,46,6,13],[8,9,40,5297,52]])\r\n",
        "print(data)"
      ],
      "execution_count": null,
      "outputs": [
        {
          "output_type": "stream",
          "text": [
            "[[   1   13   21   11  196]\n",
            " [2587    3   46    6   13]\n",
            " [   8    9   40 5297   52]]\n"
          ],
          "name": "stdout"
        }
      ]
    },
    {
      "cell_type": "markdown",
      "metadata": {
        "id": "i3Z8nihgZnAJ"
      },
      "source": [
        "####Boolean Masking and Advanced indexing"
      ]
    },
    {
      "cell_type": "code",
      "metadata": {
        "colab": {
          "base_uri": "https://localhost:8080/"
        },
        "id": "ZGQ6d4Z3Zbl4",
        "outputId": "7bb493d4-1da4-40fb-8389-c7a798918be3"
      },
      "source": [
        "data>50"
      ],
      "execution_count": null,
      "outputs": [
        {
          "output_type": "execute_result",
          "data": {
            "text/plain": [
              "array([[False, False, False, False,  True],\n",
              "       [ True, False, False, False, False],\n",
              "       [False, False, False,  True,  True]])"
            ]
          },
          "metadata": {
            "tags": []
          },
          "execution_count": 153
        }
      ]
    },
    {
      "cell_type": "code",
      "metadata": {
        "colab": {
          "base_uri": "https://localhost:8080/"
        },
        "id": "_AFUXfR_Z0Wz",
        "outputId": "686de20d-055f-45ed-8088-0d3d920b3139"
      },
      "source": [
        "data[data>50]"
      ],
      "execution_count": null,
      "outputs": [
        {
          "output_type": "execute_result",
          "data": {
            "text/plain": [
              "array([ 196, 2587, 5297,   52])"
            ]
          },
          "metadata": {
            "tags": []
          },
          "execution_count": 154
        }
      ]
    },
    {
      "cell_type": "code",
      "metadata": {
        "colab": {
          "base_uri": "https://localhost:8080/"
        },
        "id": "jwT5oUc6Z_3l",
        "outputId": "5803951e-189f-4bb1-ae8a-a05c543e7b75"
      },
      "source": [
        "##You can index with a list in numPy\r\n",
        "\r\n",
        "a = np.array([1,2,3,4,5,6,7,8,9])\r\n",
        "a[[1,2,3]]"
      ],
      "execution_count": null,
      "outputs": [
        {
          "output_type": "execute_result",
          "data": {
            "text/plain": [
              "array([2, 3, 4])"
            ]
          },
          "metadata": {
            "tags": []
          },
          "execution_count": 155
        }
      ]
    },
    {
      "cell_type": "code",
      "metadata": {
        "colab": {
          "base_uri": "https://localhost:8080/"
        },
        "id": "iZ3XqkJpax6b",
        "outputId": "522ff5f1-0ba6-44c0-e114-e4cc2cdce6ea"
      },
      "source": [
        "c = np.array([[1,2,3,4,5],[6,7,8,9,10],[11,12,13,14,15],[16,17,18,19,20],[21,22,23,24,25],[26,27,28,29,30]])\r\n",
        "c"
      ],
      "execution_count": null,
      "outputs": [
        {
          "output_type": "execute_result",
          "data": {
            "text/plain": [
              "array([[ 1,  2,  3,  4,  5],\n",
              "       [ 6,  7,  8,  9, 10],\n",
              "       [11, 12, 13, 14, 15],\n",
              "       [16, 17, 18, 19, 20],\n",
              "       [21, 22, 23, 24, 25],\n",
              "       [26, 27, 28, 29, 30]])"
            ]
          },
          "metadata": {
            "tags": []
          },
          "execution_count": 168
        }
      ]
    },
    {
      "cell_type": "markdown",
      "metadata": {
        "id": "Mj_GM6L_bCN4"
      },
      "source": [
        "####INDEXING"
      ]
    },
    {
      "cell_type": "code",
      "metadata": {
        "colab": {
          "base_uri": "https://localhost:8080/"
        },
        "id": "0qWs-81DcSbz",
        "outputId": "136cb258-6f17-45c1-b406-25db3ac770ac"
      },
      "source": [
        "c[2:4,0:2]"
      ],
      "execution_count": null,
      "outputs": [
        {
          "output_type": "execute_result",
          "data": {
            "text/plain": [
              "array([[11, 12],\n",
              "       [16, 17]])"
            ]
          },
          "metadata": {
            "tags": []
          },
          "execution_count": 171
        }
      ]
    },
    {
      "cell_type": "code",
      "metadata": {
        "colab": {
          "base_uri": "https://localhost:8080/"
        },
        "id": "K_XsIviWcfRR",
        "outputId": "3c35285a-c081-41a7-8543-39a668efa434"
      },
      "source": [
        "c[[0,1,2,3],[1,2,3,4]]"
      ],
      "execution_count": null,
      "outputs": [
        {
          "output_type": "execute_result",
          "data": {
            "text/plain": [
              "array([ 2,  8, 14, 20])"
            ]
          },
          "metadata": {
            "tags": []
          },
          "execution_count": 172
        }
      ]
    },
    {
      "cell_type": "code",
      "metadata": {
        "colab": {
          "base_uri": "https://localhost:8080/"
        },
        "id": "_fxNEhXycnl5",
        "outputId": "86eea9d6-2dd1-4237-f970-55fef9ded41e"
      },
      "source": [
        "x = c[[0,0,4,4,5,5],[3,4,3,4,3,4]]\r\n",
        "print(x)\r\n",
        "\r\n",
        "######OORRRRR#######\r\n",
        "y = c[[0,4,5],3:]\r\n",
        "print(y)"
      ],
      "execution_count": null,
      "outputs": [
        {
          "output_type": "stream",
          "text": [
            "[ 4  5 24 25 29 30]\n",
            "[[ 4  5]\n",
            " [24 25]\n",
            " [29 30]]\n"
          ],
          "name": "stdout"
        }
      ]
    },
    {
      "cell_type": "markdown",
      "metadata": {
        "id": "ZjOGfCM5xHL7"
      },
      "source": [
        "#Exercises"
      ]
    },
    {
      "cell_type": "code",
      "metadata": {
        "colab": {
          "base_uri": "https://localhost:8080/"
        },
        "id": "s5l6Jv9CxJPv",
        "outputId": "0021ddfe-cacb-4d66-b655-27e51e84468f"
      },
      "source": [
        "print(np.__version__)"
      ],
      "execution_count": null,
      "outputs": [
        {
          "output_type": "stream",
          "text": [
            "1.19.4\n"
          ],
          "name": "stdout"
        }
      ]
    },
    {
      "cell_type": "code",
      "metadata": {
        "colab": {
          "base_uri": "https://localhost:8080/"
        },
        "id": "iwvhYj9rxScK",
        "outputId": "3b4875ab-0cb2-4277-f6f2-fa2bb243708d"
      },
      "source": [
        "#Create a 1D array of numbers from 0 to 9\r\n",
        "oneD = np.arange(10)\r\n",
        "oneD"
      ],
      "execution_count": null,
      "outputs": [
        {
          "output_type": "execute_result",
          "data": {
            "text/plain": [
              "array([0, 1, 2, 3, 4, 5, 6, 7, 8, 9])"
            ]
          },
          "metadata": {
            "tags": []
          },
          "execution_count": 180
        }
      ]
    },
    {
      "cell_type": "code",
      "metadata": {
        "colab": {
          "base_uri": "https://localhost:8080/"
        },
        "id": "Yzq5b03kxfrg",
        "outputId": "cccd8fb5-eaa6-4a90-8eea-8f277b7317d6"
      },
      "source": [
        "#Create a 3x3 numpy array of all True's\r\n",
        "boo = np.full((3,3), True, dtype= bool)\r\n",
        "print(boo)\r\n",
        "\r\n",
        "#Alternate method\r\n",
        "boo1 = np.ones((3,3), dtype = bool)\r\n",
        "print(boo1)"
      ],
      "execution_count": null,
      "outputs": [
        {
          "output_type": "stream",
          "text": [
            "[[ True  True  True]\n",
            " [ True  True  True]\n",
            " [ True  True  True]]\n",
            "[[ True  True  True]\n",
            " [ True  True  True]\n",
            " [ True  True  True]]\n"
          ],
          "name": "stdout"
        }
      ]
    },
    {
      "cell_type": "code",
      "metadata": {
        "colab": {
          "base_uri": "https://localhost:8080/"
        },
        "id": "pd2WhVmTym8n",
        "outputId": "99a90e29-37e1-41e2-9d53-1ecb8c067939"
      },
      "source": [
        "#Extract all ODD numbers from array\r\n",
        "arr = np.array([0, 1, 2, 3, 4, 5, 6, 7, 8, 9])\r\n",
        "\r\n",
        "arr[arr%2==1]"
      ],
      "execution_count": null,
      "outputs": [
        {
          "output_type": "execute_result",
          "data": {
            "text/plain": [
              "array([1, 3, 5, 7, 9])"
            ]
          },
          "metadata": {
            "tags": []
          },
          "execution_count": 191
        }
      ]
    },
    {
      "cell_type": "code",
      "metadata": {
        "colab": {
          "base_uri": "https://localhost:8080/"
        },
        "id": "7cJNBO7LzXPP",
        "outputId": "38231ce0-ef4c-4808-a085-607c8dd62bbb"
      },
      "source": [
        "#Replace all ODD numbers in array with -1\r\n",
        "arr = np.array([0, 1, 2, 3, 4, 5, 6, 7, 8, 9])\r\n",
        "\r\n",
        "arr[arr%2 == 1] = -1\r\n",
        "\r\n",
        "arr"
      ],
      "execution_count": null,
      "outputs": [
        {
          "output_type": "execute_result",
          "data": {
            "text/plain": [
              "array([ 0, -1,  2, -1,  4, -1,  6, -1,  8, -1])"
            ]
          },
          "metadata": {
            "tags": []
          },
          "execution_count": 192
        }
      ]
    },
    {
      "cell_type": "code",
      "metadata": {
        "colab": {
          "base_uri": "https://localhost:8080/"
        },
        "id": "vKr0ZYabz0A0",
        "outputId": "8d6f125c-fd75-4d0f-ec6a-6c06f5520755"
      },
      "source": [
        "#Replace all ODD numbers in arr with -1 without changing original array\r\n",
        "\r\n",
        "arr = np.array([0, 1, 2, 3, 4, 5, 6, 7, 8, 9])\r\n",
        "\r\n",
        "out = arr.copy()\r\n",
        "\r\n",
        "out[out %2==1] = -1\r\n",
        "print(out)\r\n",
        "\r\n",
        "#Alternate method\r\n",
        "out2 = np.where(arr%2==1, -1, arr)\r\n",
        "print(out2)"
      ],
      "execution_count": null,
      "outputs": [
        {
          "output_type": "stream",
          "text": [
            "[ 0 -1  2 -1  4 -1  6 -1  8 -1]\n",
            "[ 0 -1  2 -1  4 -1  6 -1  8 -1]\n"
          ],
          "name": "stdout"
        }
      ]
    },
    {
      "cell_type": "code",
      "metadata": {
        "colab": {
          "base_uri": "https://localhost:8080/"
        },
        "id": "qZSLPGgh0m_1",
        "outputId": "11bdcd29-792f-45f6-ed5a-dcb9778671ac"
      },
      "source": [
        "#Convert a 1D array to a 2D array with 2 rows\r\n",
        "arr = np.array([0, 1, 2, 3, 4, 5, 6, 7, 8, 9])\r\n",
        "\r\n",
        "arr1 = arr.reshape(2,5)\r\n",
        "print(arr1)\r\n",
        "\r\n",
        "#OR#\r\n",
        "\r\n",
        "arr2 = arr.reshape(2,-1) #Setting to -1 automatically decides the number of cols.\r\n",
        "print(arr2)"
      ],
      "execution_count": null,
      "outputs": [
        {
          "output_type": "stream",
          "text": [
            "[[0 1 2 3 4]\n",
            " [5 6 7 8 9]]\n",
            "[[0 1 2 3 4]\n",
            " [5 6 7 8 9]]\n"
          ],
          "name": "stdout"
        }
      ]
    },
    {
      "cell_type": "code",
      "metadata": {
        "colab": {
          "base_uri": "https://localhost:8080/"
        },
        "id": "QrLmKB5w1W6H",
        "outputId": "196b1a58-f793-4610-8654-1f38531f7dfd"
      },
      "source": [
        "#Stack arrays a and b vertically\r\n",
        "\r\n",
        "a  = np.arange(10).reshape(2,-1)\r\n",
        "print(a)\r\n",
        "print(\"___________________________________________________________________________________\")\r\n",
        "b = np.repeat(1,10).reshape(2,-1)\r\n",
        "print(b)\r\n",
        "print(\"___________________________________________________________________________________\")\r\n",
        "c = np.vstack((a,b))\r\n",
        "print(c)\r\n",
        "\r\n",
        "#OR#\r\n",
        "#np.concatenate([a,b],axis =0)"
      ],
      "execution_count": null,
      "outputs": [
        {
          "output_type": "stream",
          "text": [
            "[[0 1 2 3 4]\n",
            " [5 6 7 8 9]]\n",
            "___________________________________________________________________________________\n",
            "[[1 1 1 1 1]\n",
            " [1 1 1 1 1]]\n",
            "___________________________________________________________________________________\n",
            "[[0 1 2 3 4]\n",
            " [5 6 7 8 9]\n",
            " [1 1 1 1 1]\n",
            " [1 1 1 1 1]]\n"
          ],
          "name": "stdout"
        }
      ]
    },
    {
      "cell_type": "code",
      "metadata": {
        "colab": {
          "base_uri": "https://localhost:8080/"
        },
        "id": "GHmOqR1m2WMO",
        "outputId": "3a4b2f3f-9947-43cf-8b5c-8480596af059"
      },
      "source": [
        "##Stack arrays a and b vertically\r\n",
        "\r\n",
        "a  = np.arange(10).reshape(2,-1)\r\n",
        "print(a)\r\n",
        "print(\"___________________________________________________________________________________\")\r\n",
        "b = np.repeat(1,10).reshape(2,-1)\r\n",
        "print(b)\r\n",
        "print(\"___________________________________________________________________________________\")\r\n",
        "c = np.hstack((a,b))\r\n",
        "print(c)\r\n",
        "\r\n",
        "\r\n",
        "#OR#\r\n",
        "#np.concatenate([a,b],axis =1)"
      ],
      "execution_count": null,
      "outputs": [
        {
          "output_type": "stream",
          "text": [
            "[[0 1 2 3 4]\n",
            " [5 6 7 8 9]]\n",
            "___________________________________________________________________________________\n",
            "[[1 1 1 1 1]\n",
            " [1 1 1 1 1]]\n",
            "___________________________________________________________________________________\n",
            "[[0 1 2 3 4 1 1 1 1 1]\n",
            " [5 6 7 8 9 1 1 1 1 1]]\n"
          ],
          "name": "stdout"
        }
      ]
    },
    {
      "cell_type": "code",
      "metadata": {
        "colab": {
          "base_uri": "https://localhost:8080/"
        },
        "id": "Kt-450BE2kc_",
        "outputId": "4f65408b-7ccc-4afd-95e4-9ee91ea2f9a7"
      },
      "source": [
        "#Create the following pattern without hardcoding. Use only numpy functions and the below input array a.\r\n",
        "#array([1, 1, 1, 2, 2, 2, 3, 3, 3, 1, 2, 3, 1, 2, 3, 1, 2, 3])\r\n",
        "\r\n",
        "a = np.array([1,2,3])\r\n",
        "\r\n",
        "np.r_[np.repeat(a,3),np.tile(a,3)]"
      ],
      "execution_count": null,
      "outputs": [
        {
          "output_type": "execute_result",
          "data": {
            "text/plain": [
              "array([1, 1, 1, 2, 2, 2, 3, 3, 3, 1, 2, 3, 1, 2, 3, 1, 2, 3])"
            ]
          },
          "metadata": {
            "tags": []
          },
          "execution_count": 209
        }
      ]
    },
    {
      "cell_type": "code",
      "metadata": {
        "colab": {
          "base_uri": "https://localhost:8080/"
        },
        "id": "-Pd5VSkx4AWi",
        "outputId": "7a7aca17-8227-457e-fe80-07cb1aa87d58"
      },
      "source": [
        "#Get the common items betwenn a and b\r\n",
        "\r\n",
        "a = np.array([1,2,3,2,3,4,3,4,5,6])\r\n",
        "b = np.array([7,2,10,2,7,4,9,4,9,8])\r\n",
        "\r\n",
        "np.intersect1d(a,b)"
      ],
      "execution_count": null,
      "outputs": [
        {
          "output_type": "execute_result",
          "data": {
            "text/plain": [
              "array([2, 4])"
            ]
          },
          "metadata": {
            "tags": []
          },
          "execution_count": 212
        }
      ]
    },
    {
      "cell_type": "code",
      "metadata": {
        "colab": {
          "base_uri": "https://localhost:8080/"
        },
        "id": "cxakrBvL5Nf_",
        "outputId": "35657614-bd9b-4265-a03e-f144442d8199"
      },
      "source": [
        "#From array a remove all items present in array b\r\n",
        "\r\n",
        "a = np.array([1,2,3,4,5])\r\n",
        "b = np.array([5,6,7,8,9])\r\n",
        "\r\n",
        "# From 'a' remove all of 'b'\r\n",
        "np.setdiff1d(a,b)"
      ],
      "execution_count": null,
      "outputs": [
        {
          "output_type": "execute_result",
          "data": {
            "text/plain": [
              "array([1, 2, 3, 4])"
            ]
          },
          "metadata": {
            "tags": []
          },
          "execution_count": 213
        }
      ]
    },
    {
      "cell_type": "code",
      "metadata": {
        "colab": {
          "base_uri": "https://localhost:8080/"
        },
        "id": "PI-jn_Xy5pLc",
        "outputId": "e7900d11-39d2-4f87-f218-a6bea9393ba5"
      },
      "source": [
        "#Get the positions where elements of a and b match\r\n",
        "\r\n",
        "a = np.array([1,2,3,2,3,4,3,4,5,6])\r\n",
        "b = np.array([7,2,10,2,7,4,9,4,9,8])\r\n",
        "\r\n",
        "np.where(a==b)"
      ],
      "execution_count": null,
      "outputs": [
        {
          "output_type": "execute_result",
          "data": {
            "text/plain": [
              "(array([1, 3, 5, 7]),)"
            ]
          },
          "metadata": {
            "tags": []
          },
          "execution_count": 214
        }
      ]
    },
    {
      "cell_type": "code",
      "metadata": {
        "colab": {
          "base_uri": "https://localhost:8080/"
        },
        "id": "mwiX4g3B53qv",
        "outputId": "904d0cb5-2937-4bad-d9dd-f27cf728c063"
      },
      "source": [
        "#Get all items between 5 and 10 from a.\r\n",
        "a = np.array([2, 6, 1, 9, 10, 3, 27])\r\n",
        "\r\n",
        "index = np.where((a>=5) & (a<=10))\r\n",
        "print(index)\r\n",
        "print(a[index])\r\n",
        "\r\n",
        "#OR#\r\n",
        "#a[(a>=5) & (a<=10)]"
      ],
      "execution_count": null,
      "outputs": [
        {
          "output_type": "stream",
          "text": [
            "(array([1, 3, 4]),)\n",
            "[ 6  9 10]\n"
          ],
          "name": "stdout"
        }
      ]
    },
    {
      "cell_type": "code",
      "metadata": {
        "colab": {
          "base_uri": "https://localhost:8080/"
        },
        "id": "s_6470b_61mA",
        "outputId": "6222a353-ab25-4aa8-9bab-b88d3a7011a5"
      },
      "source": [
        "# Convert the function maxx that works on two scalars, to work on two arrays\r\n",
        "\r\n",
        "def maxx(x, y):\r\n",
        "    \"\"\"Get the maximum of two items\"\"\"\r\n",
        "    if x >= y:\r\n",
        "        return x\r\n",
        "    else:\r\n",
        "        return y\r\n",
        "\r\n",
        "print(maxx(1, 5))\r\n",
        "\r\n",
        "a = np.array([5, 7, 9, 8, 6, 4, 5])\r\n",
        "b = np.array([6, 3, 4, 8, 9, 7, 1])\r\n",
        "\r\n",
        "pair_max = np.vectorize(maxx, otypes = [float])\r\n",
        "\r\n",
        "pair_max(a,b)"
      ],
      "execution_count": null,
      "outputs": [
        {
          "output_type": "stream",
          "text": [
            "5\n"
          ],
          "name": "stdout"
        },
        {
          "output_type": "execute_result",
          "data": {
            "text/plain": [
              "array([6., 7., 9., 8., 9., 7., 5.])"
            ]
          },
          "metadata": {
            "tags": []
          },
          "execution_count": 225
        }
      ]
    },
    {
      "cell_type": "code",
      "metadata": {
        "colab": {
          "base_uri": "https://localhost:8080/"
        },
        "id": "6mNGJv8J1GkA",
        "outputId": "c6044073-749d-4131-b69b-06983ceafc5f"
      },
      "source": [
        "#Swap columns 1 and 2 in the array arr\r\n",
        "\r\n",
        "arr = np.arange(9).reshape(3,3)\r\n",
        "print(arr)\r\n",
        "print(\"_______________________________________\")\r\n",
        "print(arr[:,[1,0,2]])"
      ],
      "execution_count": 8,
      "outputs": [
        {
          "output_type": "stream",
          "text": [
            "[[0 1 2]\n",
            " [3 4 5]\n",
            " [6 7 8]]\n",
            "_______________________________________\n",
            "[[1 0 2]\n",
            " [4 3 5]\n",
            " [7 6 8]]\n"
          ],
          "name": "stdout"
        }
      ]
    },
    {
      "cell_type": "code",
      "metadata": {
        "colab": {
          "base_uri": "https://localhost:8080/"
        },
        "id": "KayY768r4f-W",
        "outputId": "781d2db3-69b4-42a1-b225-93ec271eebe1"
      },
      "source": [
        "#Swap rows 1 and 2 in the array arr\r\n",
        "\r\n",
        "arr = np.arange(9).reshape(3,3)\r\n",
        "print(arr)\r\n",
        "\r\n",
        "print(arr[[1,0,2],:])"
      ],
      "execution_count": 9,
      "outputs": [
        {
          "output_type": "stream",
          "text": [
            "[[0 1 2]\n",
            " [3 4 5]\n",
            " [6 7 8]]\n",
            "[[3 4 5]\n",
            " [0 1 2]\n",
            " [6 7 8]]\n"
          ],
          "name": "stdout"
        }
      ]
    },
    {
      "cell_type": "code",
      "metadata": {
        "colab": {
          "base_uri": "https://localhost:8080/"
        },
        "id": "l07gm0Dr6LmX",
        "outputId": "58f32614-694d-4332-8979-9b32546b26a0"
      },
      "source": [
        "#Reverse the rows of a 2D array\r\n",
        "\r\n",
        "arr = np.arange(9).reshape(3,3)\r\n",
        "print(arr)\r\n",
        "print(\".......................Reversed Array......................\")\r\n",
        "arr[::-1]"
      ],
      "execution_count": 12,
      "outputs": [
        {
          "output_type": "stream",
          "text": [
            "[[0 1 2]\n",
            " [3 4 5]\n",
            " [6 7 8]]\n",
            ".......................Reversed Array......................\n"
          ],
          "name": "stdout"
        },
        {
          "output_type": "execute_result",
          "data": {
            "text/plain": [
              "array([[6, 7, 8],\n",
              "       [3, 4, 5],\n",
              "       [0, 1, 2]])"
            ]
          },
          "metadata": {
            "tags": []
          },
          "execution_count": 12
        }
      ]
    },
    {
      "cell_type": "code",
      "metadata": {
        "colab": {
          "base_uri": "https://localhost:8080/"
        },
        "id": "IZnfoq1M6xEX",
        "outputId": "ce065cd1-108f-4491-b60a-eda0574fd483"
      },
      "source": [
        "#Reverse the columns of a 2D array\r\n",
        "\r\n",
        "arr = np.arange(9).reshape(3,3)\r\n",
        "print(arr)\r\n",
        "print(\".......................Reversed Array......................\")\r\n",
        "arr[:,::-1]"
      ],
      "execution_count": 13,
      "outputs": [
        {
          "output_type": "stream",
          "text": [
            "[[0 1 2]\n",
            " [3 4 5]\n",
            " [6 7 8]]\n",
            ".......................Reversed Array......................\n"
          ],
          "name": "stdout"
        },
        {
          "output_type": "execute_result",
          "data": {
            "text/plain": [
              "array([[2, 1, 0],\n",
              "       [5, 4, 3],\n",
              "       [8, 7, 6]])"
            ]
          },
          "metadata": {
            "tags": []
          },
          "execution_count": 13
        }
      ]
    },
    {
      "cell_type": "code",
      "metadata": {
        "colab": {
          "base_uri": "https://localhost:8080/"
        },
        "id": "aHxHqcw17Vev",
        "outputId": "64071bca-b2ef-4ee2-8d21-381afe4df8bf"
      },
      "source": [
        "#Create a 2D array of shape 5x3 to contain random decimal numbers between 5 and 10.\r\n",
        "arr = np.random.uniform(5,10,(5,3))\r\n",
        "print(arr)\r\n",
        "\r\n",
        "#Create a 2D array of shape 5x3 to contain random numbers between 5 and 10.\r\n",
        "arr1 = np.random.randint(5,10,(5,3))\r\n",
        "print(arr1)"
      ],
      "execution_count": 23,
      "outputs": [
        {
          "output_type": "stream",
          "text": [
            "[[9.36134419 6.35177247 9.14957541]\n",
            " [9.9139448  7.09950421 8.95976799]\n",
            " [8.37883414 6.48984061 5.12416993]\n",
            " [5.40474569 5.75959503 8.03539201]\n",
            " [9.88498867 8.77562393 9.76709382]]\n",
            "[[6 7 9]\n",
            " [9 9 5]\n",
            " [6 9 8]\n",
            " [7 5 9]\n",
            " [9 5 8]]\n"
          ],
          "name": "stdout"
        }
      ]
    },
    {
      "cell_type": "code",
      "metadata": {
        "colab": {
          "base_uri": "https://localhost:8080/"
        },
        "id": "e4aK3Qz88w_W",
        "outputId": "cf8b3bdb-b1e9-444c-d200-a39583e63632"
      },
      "source": [
        "#Print or show only 3 decimal places of the numpy array\r\n",
        "\r\n",
        "arr = np.random.random((5,3))\r\n",
        "print(arr)\r\n",
        "\r\n",
        "print(\".......LIMIT TO  DECIMAL PLACES.......\")\r\n",
        "\r\n",
        "np.set_printoptions(precision=3)\r\n",
        "print(arr)"
      ],
      "execution_count": 30,
      "outputs": [
        {
          "output_type": "stream",
          "text": [
            "[[0.321 0.225 0.585]\n",
            " [0.664 0.931 0.812]\n",
            " [0.104 0.527 0.924]\n",
            " [0.111 0.716 0.78 ]\n",
            " [0.098 0.487 0.648]]\n",
            ".......LIMIT TO  DECIMAL PLACES.......\n",
            "[[0.321 0.225 0.585]\n",
            " [0.664 0.931 0.812]\n",
            " [0.104 0.527 0.924]\n",
            " [0.111 0.716 0.78 ]\n",
            " [0.098 0.487 0.648]]\n"
          ],
          "name": "stdout"
        }
      ]
    },
    {
      "cell_type": "code",
      "metadata": {
        "colab": {
          "base_uri": "https://localhost:8080/"
        },
        "id": "SI4QvBkq96r4",
        "outputId": "e20544c6-5841-49e8-81b7-0c620a942079"
      },
      "source": [
        "#Pretty print rand_arr by suppressing the scientific notation (like 1e10)\r\n",
        "\r\n",
        "# Create the random array\r\n",
        "np.random.seed(100)\r\n",
        "\r\n",
        "# With the seed reset (every time), the same set of numbers will appear every time.\r\n",
        "# If the random seed is not reset, different numbers appear with every invocation:\r\n",
        "\r\n",
        "rand_arr = np.random.random([3,3])/1e3\r\n",
        "print(rand_arr)\r\n",
        "print(\"......................PRETTY...............\")\r\n",
        "np.set_printoptions(suppress = True, precision = 6) #precision is optional\r\n",
        "print(rand_arr)"
      ],
      "execution_count": 37,
      "outputs": [
        {
          "output_type": "stream",
          "text": [
            "[[0.000543 0.000278 0.000425]\n",
            " [0.000845 0.000005 0.000122]\n",
            " [0.000671 0.000826 0.000137]]\n",
            "......................PRETTY...............\n",
            "[[0.000543 0.000278 0.000425]\n",
            " [0.000845 0.000005 0.000122]\n",
            " [0.000671 0.000826 0.000137]]\n"
          ],
          "name": "stdout"
        }
      ]
    },
    {
      "cell_type": "code",
      "metadata": {
        "colab": {
          "base_uri": "https://localhost:8080/"
        },
        "id": "UIy9Vxx5FXCk",
        "outputId": "ad2bb072-32ab-48e4-a864-797cbf0f221e"
      },
      "source": [
        "#Limit the number of items printed in python numpy array \"a\" to a maximum of 6 elements.\r\n",
        "a = np.arange(15)\r\n",
        "np.set_printoptions(threshold=6)\r\n",
        "a"
      ],
      "execution_count": 38,
      "outputs": [
        {
          "output_type": "execute_result",
          "data": {
            "text/plain": [
              "array([ 0,  1,  2, ..., 12, 13, 14])"
            ]
          },
          "metadata": {
            "tags": []
          },
          "execution_count": 38
        }
      ]
    },
    {
      "cell_type": "code",
      "metadata": {
        "colab": {
          "base_uri": "https://localhost:8080/"
        },
        "id": "dRYpupe0F224",
        "outputId": "6cc6ebdd-b6a6-4887-989c-349d1ba1a485"
      },
      "source": [
        "#Print the full numpy array a without truncating.\r\n",
        "\r\n",
        "a = np.arange(15)\r\n",
        "np.set_printoptions(threshold=sys.maxsize)\r\n",
        "a"
      ],
      "execution_count": 47,
      "outputs": [
        {
          "output_type": "execute_result",
          "data": {
            "text/plain": [
              "array([ 0,  1,  2,  3,  4,  5,  6,  7,  8,  9, 10, 11, 12, 13, 14])"
            ]
          },
          "metadata": {
            "tags": []
          },
          "execution_count": 47
        }
      ]
    },
    {
      "cell_type": "code",
      "metadata": {
        "colab": {
          "base_uri": "https://localhost:8080/"
        },
        "id": "PsBcOrrNGPYj",
        "outputId": "ad81f3fe-7a3a-4b16-9b9e-e286d0e76313"
      },
      "source": [
        "#Import the iris dataset keeping the text intact.\r\n",
        "\r\n",
        "url = 'https://archive.ics.uci.edu/ml/machine-learning-databases/iris/iris.data'\r\n",
        "iris = np.genfromtxt(url, delimiter=\",\",dtype='object')\r\n",
        "#Since we want to retain the species, a text field, I have set the dtype to object\r\n",
        "names = ('sepallength','sepalwidth','petallength','petalwidth','species')\r\n",
        "\r\n",
        "iris[:3]\r\n"
      ],
      "execution_count": 48,
      "outputs": [
        {
          "output_type": "execute_result",
          "data": {
            "text/plain": [
              "array([[b'5.1', b'3.5', b'1.4', b'0.2', b'Iris-setosa'],\n",
              "       [b'4.9', b'3.0', b'1.4', b'0.2', b'Iris-setosa'],\n",
              "       [b'4.7', b'3.2', b'1.3', b'0.2', b'Iris-setosa']], dtype=object)"
            ]
          },
          "metadata": {
            "tags": []
          },
          "execution_count": 48
        }
      ]
    },
    {
      "cell_type": "code",
      "metadata": {
        "colab": {
          "base_uri": "https://localhost:8080/"
        },
        "id": "eQJWi8FwIuUs",
        "outputId": "2ea59415-414f-429b-d2c1-e2b3f9994aef"
      },
      "source": [
        "#Extract the text column species from the 1D iris imported in previous question.\r\n",
        "\r\n",
        "#iris[:,4]\r\n",
        "\r\n",
        "#>>>>OR<<<<<<\r\n",
        "\r\n",
        "species = np.array([row[4] for row in iris])\r\n",
        "species[:5]"
      ],
      "execution_count": 56,
      "outputs": [
        {
          "output_type": "execute_result",
          "data": {
            "text/plain": [
              "array([b'Iris-setosa', b'Iris-setosa', b'Iris-setosa', b'Iris-setosa',\n",
              "       b'Iris-setosa'], dtype='|S15')"
            ]
          },
          "metadata": {
            "tags": []
          },
          "execution_count": 56
        }
      ]
    },
    {
      "cell_type": "code",
      "metadata": {
        "colab": {
          "base_uri": "https://localhost:8080/"
        },
        "id": "6-iLiOUcJCv2",
        "outputId": "cb0aec5c-2ca1-4661-90ec-b6b1eeb6bad9"
      },
      "source": [
        "#Convert the 1D iris to 2D array iris_2d by omitting the species text field\r\n",
        "\r\n",
        "iris_1d = np.genfromtxt(url,delimiter = \",\",dtype = None)\r\n",
        "#Since we dont want to retain the species, a text field, I have set the dtype to object\r\n",
        "\r\n",
        "iris_2d = np.genfromtxt(url,delimiter=',',dtype = 'float', usecols=[0,1,2,3])\r\n",
        "iris_2d[:4]"
      ],
      "execution_count": 57,
      "outputs": [
        {
          "output_type": "stream",
          "text": [
            "/usr/local/lib/python3.6/dist-packages/ipykernel_launcher.py:3: VisibleDeprecationWarning: Reading unicode strings without specifying the encoding argument is deprecated. Set the encoding, use None for the system default.\n",
            "  This is separate from the ipykernel package so we can avoid doing imports until\n"
          ],
          "name": "stderr"
        },
        {
          "output_type": "execute_result",
          "data": {
            "text/plain": [
              "array([[5.1, 3.5, 1.4, 0.2],\n",
              "       [4.9, 3. , 1.4, 0.2],\n",
              "       [4.7, 3.2, 1.3, 0.2],\n",
              "       [4.6, 3.1, 1.5, 0.2]])"
            ]
          },
          "metadata": {
            "tags": []
          },
          "execution_count": 57
        }
      ]
    },
    {
      "cell_type": "code",
      "metadata": {
        "colab": {
          "base_uri": "https://localhost:8080/"
        },
        "id": "40HFLfdhKeFr",
        "outputId": "e1666387-5e92-4640-ab7f-28d83b781ae7"
      },
      "source": [
        "# Find the mean, median, standard deviation of iris's sepallength (1st column)\r\n",
        "\r\n",
        "sepallength = np.genfromtxt(url,delimiter = ',',dtype = 'float',usecols = [0])\r\n",
        "mu,med,sd = np.mean(sepallength),np.median(sepallength),np.std(sepallength)\r\n",
        "\r\n",
        "print(\"mu:\",mu)\r\n",
        "print(\"med:\",med)\r\n",
        "print(\"std:\",sd)"
      ],
      "execution_count": 59,
      "outputs": [
        {
          "output_type": "stream",
          "text": [
            "mu: 5.843333333333334\n",
            "med: 5.8\n",
            "std: 0.8253012917851409\n"
          ],
          "name": "stdout"
        }
      ]
    },
    {
      "cell_type": "code",
      "metadata": {
        "colab": {
          "base_uri": "https://localhost:8080/"
        },
        "id": "V25NPrtFMAxg",
        "outputId": "0a1af23e-98dc-4da8-ac4b-2543ef3bc7a9"
      },
      "source": [
        "# Create a normalized form of iris's sepallength whose values range exactly between 0 and 1 so that the minimum has value 0 and maximum has value 1\r\n",
        "\r\n",
        "Smax, Smin = sepallength.max(), sepallength.min()\r\n",
        "\r\n",
        "norm = (sepallength-Smin)/(Smax-Smin)\r\n",
        "\r\n",
        "norm[:5]"
      ],
      "execution_count": 61,
      "outputs": [
        {
          "output_type": "execute_result",
          "data": {
            "text/plain": [
              "array([0.222222, 0.166667, 0.111111, 0.083333, 0.194444])"
            ]
          },
          "metadata": {
            "tags": []
          },
          "execution_count": 61
        }
      ]
    },
    {
      "cell_type": "code",
      "metadata": {
        "colab": {
          "base_uri": "https://localhost:8080/"
        },
        "id": "bKt4DQ2DMkG0",
        "outputId": "d77ef629-aeb4-4835-f631-95e57861251e"
      },
      "source": [
        "#Compute the softmax score of sepallength.\r\n",
        "\r\n",
        "# Solution\r\n",
        "def softmax(x):\r\n",
        "    \"\"\"Compute softmax values for each sets of scores in x.\r\n",
        "    https://stackoverflow.com/questions/34968722/how-to-implement-the-softmax-function-in-python\"\"\"\r\n",
        "    e_x = np.exp(x - np.max(x))\r\n",
        "    return e_x / e_x.sum(axis=0)\r\n",
        "\r\n",
        "print(softmax(sepallength))"
      ],
      "execution_count": 63,
      "outputs": [
        {
          "output_type": "stream",
          "text": [
            "[0.00222  0.001817 0.001488 0.001346 0.002008 0.002996 0.001346 0.002008\n",
            " 0.001102 0.001817 0.002996 0.001644 0.001644 0.000997 0.00447  0.004044\n",
            " 0.002996 0.00222  0.004044 0.00222  0.002996 0.00222  0.001346 0.00222\n",
            " 0.001644 0.002008 0.002008 0.002453 0.002453 0.001488 0.001644 0.002996\n",
            " 0.002453 0.003311 0.001817 0.002008 0.003311 0.001817 0.001102 0.00222\n",
            " 0.002008 0.001218 0.001102 0.002008 0.00222  0.001644 0.00222  0.001346\n",
            " 0.002711 0.002008 0.01484  0.008144 0.013428 0.003311 0.009001 0.004044\n",
            " 0.007369 0.001817 0.009947 0.002453 0.002008 0.00494  0.005459 0.006033\n",
            " 0.003659 0.010994 0.003659 0.00447  0.006668 0.003659 0.00494  0.006033\n",
            " 0.007369 0.006033 0.008144 0.009947 0.01215  0.010994 0.005459 0.004044\n",
            " 0.003311 0.003311 0.00447  0.005459 0.002996 0.005459 0.010994 0.007369\n",
            " 0.003659 0.003311 0.003311 0.006033 0.00447  0.002008 0.003659 0.004044\n",
            " 0.004044 0.006668 0.00222  0.004044 0.007369 0.00447  0.016401 0.007369\n",
            " 0.009001 0.02704  0.001817 0.020032 0.010994 0.018126 0.009001 0.008144\n",
            " 0.01215  0.004044 0.00447  0.008144 0.009001 0.029884 0.029884 0.005459\n",
            " 0.013428 0.003659 0.029884 0.007369 0.010994 0.018126 0.006668 0.006033\n",
            " 0.008144 0.018126 0.022139 0.0365   0.008144 0.007369 0.006033 0.029884\n",
            " 0.007369 0.008144 0.005459 0.013428 0.010994 0.013428 0.00447  0.01215\n",
            " 0.010994 0.010994 0.007369 0.009001 0.006668 0.00494 ]\n"
          ],
          "name": "stdout"
        }
      ]
    },
    {
      "cell_type": "markdown",
      "metadata": {
        "id": "HjVsKJQsNwGW"
      },
      "source": [
        "#Percentile scores of a numpy array?\r\n",
        "\r\n",
        "######“Percentile” is in everyday use, but there is no universal definition for it. The most common definition of a percentile is a number where a certain percentage of scores fall below that number. You might know that you scored 67 out of 90 on a test. But that figure has no real meaning unless you know what percentile you fall into. \r\n",
        "\r\n",
        "######If you know that your score is in the 90th percentile, that means you scored better than 90% of people who took the test.\r\n",
        "Percentiles are commonly used to report scores in tests, like the SAT, GRE and LSAT. for example, the 70th percentile on the 2013 GRE was 156. That means if you scored 156 on the exam, your score was better than 70 percent of test takers."
      ]
    },
    {
      "cell_type": "code",
      "metadata": {
        "colab": {
          "base_uri": "https://localhost:8080/"
        },
        "id": "_5ZKuunPMkAg",
        "outputId": "e467c901-ed09-4768-88f3-43127cbe7332"
      },
      "source": [
        "#Find the 5th and 95th percentile of iris's sepallength\r\n",
        "np.percentile(sepallength, q=[5, 95])"
      ],
      "execution_count": 64,
      "outputs": [
        {
          "output_type": "execute_result",
          "data": {
            "text/plain": [
              "array([4.6  , 7.255])"
            ]
          },
          "metadata": {
            "tags": []
          },
          "execution_count": 64
        }
      ]
    },
    {
      "cell_type": "code",
      "metadata": {
        "colab": {
          "base_uri": "https://localhost:8080/"
        },
        "id": "sWdQbbnROPUd",
        "outputId": "1aa6cd08-3fce-4715-b942-980d7c852c7b"
      },
      "source": [
        "#Insert np.nan values at 20 random positions in iris_2d dataset\r\n",
        "\r\n",
        "#Method 1\r\n",
        "i,j = np.where(iris_2d)\r\n",
        "\r\n",
        "#i,j contains the row numbers and column numbers of 600 elements of iris\r\n",
        "iris_2d[np.random.choice((i),20),np.random.choice((j),20)]=np.nan\r\n",
        "\r\n",
        "print(iris_2d)"
      ],
      "execution_count": 68,
      "outputs": [
        {
          "output_type": "stream",
          "text": [
            "[[nan 3.5 1.4 0.2]\n",
            " [nan 3.  1.4 0.2]\n",
            " [4.7 3.2 1.3 0.2]\n",
            " [4.6 3.1 1.5 0.2]\n",
            " [5.  3.6 1.4 0.2]\n",
            " [5.4 3.9 1.7 0.4]\n",
            " [4.6 3.4 1.4 0.3]\n",
            " [5.  3.4 1.5 0.2]\n",
            " [4.4 2.9 1.4 0.2]\n",
            " [4.9 3.1 1.5 0.1]\n",
            " [5.4 3.7 1.5 0.2]\n",
            " [4.8 3.4 1.6 0.2]\n",
            " [4.8 3.  nan 0.1]\n",
            " [4.3 3.  1.1 0.1]\n",
            " [5.8 4.  1.2 0.2]\n",
            " [nan 4.4 1.5 0.4]\n",
            " [5.4 3.9 1.3 0.4]\n",
            " [5.1 3.5 1.4 0.3]\n",
            " [5.7 3.8 1.7 0.3]\n",
            " [5.1 3.8 1.5 0.3]\n",
            " [5.4 3.4 1.7 0.2]\n",
            " [5.1 3.7 nan 0.4]\n",
            " [4.6 3.6 1.  0.2]\n",
            " [nan 3.3 1.7 0.5]\n",
            " [4.8 3.4 1.9 0.2]\n",
            " [5.  3.  1.6 0.2]\n",
            " [5.  3.4 1.6 0.4]\n",
            " [5.2 3.5 1.5 0.2]\n",
            " [5.2 3.4 1.4 0.2]\n",
            " [4.7 3.2 1.6 0.2]\n",
            " [4.8 3.1 1.6 0.2]\n",
            " [5.4 3.4 1.5 0.4]\n",
            " [5.2 4.1 1.5 0.1]\n",
            " [5.5 nan 1.4 0.2]\n",
            " [4.9 3.1 1.5 0.1]\n",
            " [5.  nan 1.2 0.2]\n",
            " [5.5 3.5 1.3 0.2]\n",
            " [4.9 3.1 1.5 0.1]\n",
            " [4.4 3.  1.3 0.2]\n",
            " [5.1 3.4 1.5 0.2]\n",
            " [5.  3.5 1.3 0.3]\n",
            " [4.5 2.3 1.3 0.3]\n",
            " [4.4 3.2 1.3 0.2]\n",
            " [5.  3.5 1.6 0.6]\n",
            " [5.1 3.8 1.9 0.4]\n",
            " [4.8 3.  1.4 0.3]\n",
            " [5.1 3.8 1.6 0.2]\n",
            " [4.6 3.2 1.4 0.2]\n",
            " [5.3 3.7 1.5 0.2]\n",
            " [5.  3.3 1.4 0.2]\n",
            " [7.  3.2 4.7 1.4]\n",
            " [6.4 3.2 4.5 1.5]\n",
            " [6.9 3.1 4.9 1.5]\n",
            " [5.5 2.3 4.  1.3]\n",
            " [6.5 2.8 4.6 1.5]\n",
            " [5.7 2.8 4.5 1.3]\n",
            " [6.3 3.3 4.7 1.6]\n",
            " [4.9 2.4 3.3 nan]\n",
            " [6.6 2.9 4.6 1.3]\n",
            " [5.2 2.7 3.9 1.4]\n",
            " [5.  2.  3.5 1. ]\n",
            " [5.9 3.  4.2 1.5]\n",
            " [6.  2.2 4.  1. ]\n",
            " [6.1 2.9 4.7 1.4]\n",
            " [5.6 2.9 3.6 1.3]\n",
            " [6.7 3.1 4.4 1.4]\n",
            " [5.6 3.  4.5 1.5]\n",
            " [5.8 2.7 4.1 1. ]\n",
            " [6.2 2.2 4.5 1.5]\n",
            " [5.6 2.5 3.9 1.1]\n",
            " [5.9 nan 4.8 1.8]\n",
            " [6.1 2.8 4.  1.3]\n",
            " [6.3 2.5 4.9 1.5]\n",
            " [6.1 2.8 4.7 1.2]\n",
            " [6.4 2.9 4.3 1.3]\n",
            " [6.6 3.  4.4 1.4]\n",
            " [6.8 2.8 4.8 1.4]\n",
            " [6.7 3.  5.  1.7]\n",
            " [6.  2.9 4.5 1.5]\n",
            " [5.7 nan nan 1. ]\n",
            " [5.5 2.4 3.8 1.1]\n",
            " [5.5 2.4 3.7 1. ]\n",
            " [5.8 2.7 3.9 1.2]\n",
            " [6.  2.7 5.1 1.6]\n",
            " [nan 3.  4.5 1.5]\n",
            " [6.  3.4 4.5 1.6]\n",
            " [6.7 3.1 4.7 1.5]\n",
            " [6.3 2.3 4.4 1.3]\n",
            " [5.6 3.  4.1 1.3]\n",
            " [5.5 2.5 4.  1.3]\n",
            " [5.5 2.6 4.4 1.2]\n",
            " [6.1 3.  4.6 1.4]\n",
            " [5.8 2.6 4.  1.2]\n",
            " [5.  2.3 3.3 1. ]\n",
            " [5.6 2.7 4.2 1.3]\n",
            " [5.7 3.  4.2 1.2]\n",
            " [nan 2.9 4.2 1.3]\n",
            " [6.2 2.9 4.3 1.3]\n",
            " [5.1 2.5 3.  1.1]\n",
            " [5.7 2.8 4.1 1.3]\n",
            " [6.3 3.3 6.  nan]\n",
            " [5.8 2.7 5.1 1.9]\n",
            " [7.1 3.  5.9 2.1]\n",
            " [6.3 nan 5.6 1.8]\n",
            " [6.5 3.  5.8 2.2]\n",
            " [7.6 3.  6.6 2.1]\n",
            " [4.9 2.5 4.5 1.7]\n",
            " [7.3 nan 6.3 1.8]\n",
            " [6.7 2.5 5.8 1.8]\n",
            " [7.2 3.6 6.1 2.5]\n",
            " [6.5 3.2 5.1 2. ]\n",
            " [6.4 2.7 5.3 1.9]\n",
            " [6.8 3.  5.5 2.1]\n",
            " [5.7 2.5 5.  2. ]\n",
            " [5.8 2.8 5.1 2.4]\n",
            " [6.4 3.2 5.3 2.3]\n",
            " [6.5 3.  5.5 1.8]\n",
            " [7.7 3.8 6.7 2.2]\n",
            " [7.7 2.6 6.9 2.3]\n",
            " [6.  2.2 5.  nan]\n",
            " [6.9 3.2 5.7 2.3]\n",
            " [5.6 2.8 4.9 2. ]\n",
            " [7.7 2.8 6.7 2. ]\n",
            " [6.3 2.7 4.9 1.8]\n",
            " [6.7 3.3 5.7 2.1]\n",
            " [7.2 3.2 6.  1.8]\n",
            " [6.2 2.8 4.8 nan]\n",
            " [6.1 3.  4.9 1.8]\n",
            " [6.4 2.8 5.6 2.1]\n",
            " [7.2 3.  5.8 1.6]\n",
            " [7.4 2.8 6.1 1.9]\n",
            " [7.9 3.8 6.4 2. ]\n",
            " [6.4 2.8 5.6 2.2]\n",
            " [6.3 2.8 5.1 1.5]\n",
            " [6.1 2.6 5.6 1.4]\n",
            " [7.7 3.  6.1 2.3]\n",
            " [6.3 3.4 5.6 2.4]\n",
            " [6.4 3.1 5.5 1.8]\n",
            " [6.  3.  4.8 1.8]\n",
            " [6.9 3.1 5.4 2.1]\n",
            " [6.7 3.1 5.6 2.4]\n",
            " [6.9 3.1 5.1 2.3]\n",
            " [5.8 nan 5.1 1.9]\n",
            " [6.8 3.2 5.9 2.3]\n",
            " [6.7 3.3 5.7 2.5]\n",
            " [6.7 3.  5.2 2.3]\n",
            " [6.3 2.5 5.  1.9]\n",
            " [6.5 3.  5.2 2. ]\n",
            " [6.2 3.4 5.4 2.3]\n",
            " [5.9 3.  5.1 1.8]]\n"
          ],
          "name": "stdout"
        }
      ]
    },
    {
      "cell_type": "code",
      "metadata": {
        "colab": {
          "base_uri": "https://localhost:8080/"
        },
        "id": "GRkHhfzYPEFJ",
        "outputId": "90869865-f83b-437a-ada4-5b73e4c92443"
      },
      "source": [
        "#Find the number and position of missing values in iris_2d's sepallength (1st column)\r\n",
        "\r\n",
        "print(\"Number of missing values:\", np.isnan(iris_2d[:,0]).sum())\r\n",
        "print(\"Position of missing values:\", np.where(np.isnan(iris_2d[:,0])))"
      ],
      "execution_count": 71,
      "outputs": [
        {
          "output_type": "stream",
          "text": [
            "Number of missing values: 6\n",
            "Position of missing values: (array([ 0,  1, 15, 23, 84, 96]),)\n"
          ],
          "name": "stdout"
        }
      ]
    },
    {
      "cell_type": "code",
      "metadata": {
        "colab": {
          "base_uri": "https://localhost:8080/"
        },
        "id": "EsZy2t_BZ_hd",
        "outputId": "3d6514f9-3558-4fb2-85c5-48141600af2a"
      },
      "source": [
        "#Filter the rows of iris_2d that has petallength (3rd column) > 1.5 and sepallength (1st column) < 5.0\r\n",
        "\r\n",
        "filter = (iris_2d[:,2]>1.5) & (iris_2d[:,0]<5.0)\r\n",
        "iris_2d[filter]"
      ],
      "execution_count": 73,
      "outputs": [
        {
          "output_type": "execute_result",
          "data": {
            "text/plain": [
              "array([[4.8, 3.4, 1.6, 0.2],\n",
              "       [4.8, 3.4, 1.9, 0.2],\n",
              "       [4.7, 3.2, 1.6, 0.2],\n",
              "       [4.8, 3.1, 1.6, 0.2],\n",
              "       [4.9, 2.4, 3.3, nan],\n",
              "       [4.9, 2.5, 4.5, 1.7]])"
            ]
          },
          "metadata": {
            "tags": []
          },
          "execution_count": 73
        }
      ]
    },
    {
      "cell_type": "code",
      "metadata": {
        "colab": {
          "base_uri": "https://localhost:8080/"
        },
        "id": "-1e5lhKCbqyh",
        "outputId": "903bce24-ea3f-4cb3-e541-f1acb644ea9e"
      },
      "source": [
        "#Select the rows of iris_2d that does not have any nan value\r\n",
        "url = 'https://archive.ics.uci.edu/ml/machine-learning-databases/iris/iris.data'\r\n",
        "iris_2d = np.genfromtxt(url, delimiter=',', dtype='float', usecols=[0,1,2,3])\r\n",
        "iris_2d[np.random.randint(150, size=20), np.random.randint(4, size=20)] = np.nan\r\n",
        "\r\n",
        "iris_2d[np.sum(np.isnan(iris_2d), axis = 1) == 0][:5]"
      ],
      "execution_count": 74,
      "outputs": [
        {
          "output_type": "execute_result",
          "data": {
            "text/plain": [
              "array([[5.1, 3.5, 1.4, 0.2],\n",
              "       [4.9, 3. , 1.4, 0.2],\n",
              "       [4.7, 3.2, 1.3, 0.2],\n",
              "       [4.6, 3.1, 1.5, 0.2],\n",
              "       [5. , 3.6, 1.4, 0.2]])"
            ]
          },
          "metadata": {
            "tags": []
          },
          "execution_count": 74
        }
      ]
    },
    {
      "cell_type": "code",
      "metadata": {
        "colab": {
          "base_uri": "https://localhost:8080/"
        },
        "id": "6B4y7PK2cZ8W",
        "outputId": "38959600-9d65-4c47-e92c-68b675d77921"
      },
      "source": [
        "#Find the correlation between SepalLength(1st column) and PetalLength(3rd column) in iris_2d\r\n",
        "\r\n",
        "# Input\r\n",
        "url = 'https://archive.ics.uci.edu/ml/machine-learning-databases/iris/iris.data'\r\n",
        "iris = np.genfromtxt(url, delimiter=',', dtype='float', usecols=[0,1,2,3])\r\n",
        "\r\n",
        "# Solution 1\r\n",
        "np.corrcoef(iris[:, 0], iris[:, 2])[0, 1]\r\n",
        "\r\n",
        "#Solution 2\r\n",
        "from scipy.stats.stats import pearsonr\r\n",
        "corr, p_value = pearsonr(iris[:,0],iris[:,2])\r\n",
        "print(corr)\r\n",
        "\r\n",
        "# Correlation coef indicates the degree of linear relationship between two numeric variables.\r\n",
        "# It can range between -1 to +1.\r\n",
        "\r\n",
        "# The p-value roughly indicates the probability of an uncorrelated system producing \r\n",
        "# datasets that have a correlation at least as extreme as the one computed.\r\n",
        "# The lower the p-value (<0.01), stronger is the significance of the relationship.\r\n",
        "# It is not an indicator of the strength."
      ],
      "execution_count": 77,
      "outputs": [
        {
          "output_type": "stream",
          "text": [
            "0.8717541573048714\n"
          ],
          "name": "stdout"
        }
      ]
    },
    {
      "cell_type": "code",
      "metadata": {
        "id": "Tt9pcYxpdW7x"
      },
      "source": [
        " #Find out if iris_2d has any missing values.\r\n",
        "\r\n",
        "np.isnan(iris_2d)\r\n",
        "\r\n",
        "#np.isnan(iris_2d).any()"
      ],
      "execution_count": null,
      "outputs": []
    },
    {
      "cell_type": "code",
      "metadata": {
        "id": "eZwttftYdmX8"
      },
      "source": [
        "#Replace all ccurrences of nan with 0 in numpy array\r\n",
        "url = 'https://archive.ics.uci.edu/ml/machine-learning-databases/iris/iris.data'\r\n",
        "iris_2d = np.genfromtxt(url, delimiter=',', dtype='float', usecols=[0,1,2,3])\r\n",
        "iris_2d[np.random.randint(150, size=20), np.random.randint(4, size=20)] = np.nan\r\n",
        "\r\n",
        "#iris_2d[np.where(np.isnan(iris_2d)==True)]=0\r\n",
        "iris_2d[np.isnan(iris_2d)]=0\r\n",
        "iris_2d\r\n"
      ],
      "execution_count": null,
      "outputs": []
    },
    {
      "cell_type": "code",
      "metadata": {
        "colab": {
          "base_uri": "https://localhost:8080/"
        },
        "id": "gM8eEwUkeeCq",
        "outputId": "03688ff5-7ee4-4ff0-9637-2e02ec350e0a"
      },
      "source": [
        "#Find the unique values and the count of unique values in iris's species\r\n",
        "\r\n",
        "url = 'https://archive.ics.uci.edu/ml/machine-learning-databases/iris/iris.data'\r\n",
        "iris = np.genfromtxt(url, delimiter=',', dtype='object')\r\n",
        "names = ('sepallength', 'sepalwidth', 'petallength', 'petalwidth', 'species')\r\n",
        "\r\n",
        "#Extract the species column in an array\r\n",
        "species = np.array([row.tolist()[4] for row in iris])\r\n",
        "\r\n",
        "#Get the Uniqe values and the counts\r\n",
        "np.unique(species, return_counts=True)"
      ],
      "execution_count": 85,
      "outputs": [
        {
          "output_type": "execute_result",
          "data": {
            "text/plain": [
              "array([b'Iris-setosa', b'Iris-versicolor', b'Iris-virginica'],\n",
              "      dtype='|S15')"
            ]
          },
          "metadata": {
            "tags": []
          },
          "execution_count": 85
        }
      ]
    },
    {
      "cell_type": "code",
      "metadata": {
        "id": "ZYXbRLrQfNgK"
      },
      "source": [
        "#Bin the petal length (3rd) column of iris_2d to form a text array, such that if petal length is:\r\n",
        "# Less than 3 --> 'small'\r\n",
        "# 3-5 --> 'medium'\r\n",
        "# '>=5 --> 'large'\r\n",
        "url = 'https://archive.ics.uci.edu/ml/machine-learning-databases/iris/iris.data'\r\n",
        "iris = np.genfromtxt(url, delimiter=',', dtype='object')\r\n",
        "names = ('sepallength', 'sepalwidth', 'petallength', 'petalwidth', 'species')\r\n",
        "\r\n",
        "#Bin petallength\r\n",
        "petal_length_bin = np.digitize(iris[:,2].astype('float'),[0,3,5,10])\r\n",
        "\r\n",
        "#Map it to respective category\r\n",
        "\r\n",
        "label_map = {1: 'small', 2: \"medium\", 3:\"large\", 4:\"np.nan\"}\r\n",
        "\r\n",
        "petal_length_cat = [label_map[x] for x in petal_length_bin]\r\n",
        "\r\n",
        "petal_length_cat\r\n"
      ],
      "execution_count": null,
      "outputs": []
    },
    {
      "cell_type": "code",
      "metadata": {
        "colab": {
          "base_uri": "https://localhost:8080/"
        },
        "id": "0DfYagM2gidd",
        "outputId": "d8f87a3f-740d-4f73-d41f-0ab0e04740eb"
      },
      "source": [
        "#Create a new column for volume in iris_2d, where volume is (pi x petallength x sepal_length^2)/3\r\n",
        "\r\n",
        "url = 'https://archive.ics.uci.edu/ml/machine-learning-databases/iris/iris.data'\r\n",
        "iris_2d = np.genfromtxt(url, delimiter=',', dtype='object')\r\n",
        "\r\n",
        "#Compute volume\r\n",
        "sepallength = iris_2d[:,0].astype('float')\r\n",
        "petallength = iris_2d[:,2].astype('float')\r\n",
        "volume = (np.pi* petallength * (sepallength**2))//3\r\n",
        "\r\n",
        "#Introduce new dimension to match iris_2d's\r\n",
        "volume = volume[:, np.newaxis]\r\n",
        "\r\n",
        "#Add the new column\r\n",
        "out = np.hstack([iris_2d, volume])\r\n",
        "\r\n",
        "out[:4]\r\n",
        "\r\n"
      ],
      "execution_count": 90,
      "outputs": [
        {
          "output_type": "execute_result",
          "data": {
            "text/plain": [
              "array([[b'5.1', b'3.5', b'1.4', b'0.2', b'Iris-setosa', 38.0],\n",
              "       [b'4.9', b'3.0', b'1.4', b'0.2', b'Iris-setosa', 35.0],\n",
              "       [b'4.7', b'3.2', b'1.3', b'0.2', b'Iris-setosa', 30.0],\n",
              "       [b'4.6', b'3.1', b'1.5', b'0.2', b'Iris-setosa', 33.0]],\n",
              "      dtype=object)"
            ]
          },
          "metadata": {
            "tags": []
          },
          "execution_count": 90
        }
      ]
    },
    {
      "cell_type": "code",
      "metadata": {
        "colab": {
          "base_uri": "https://localhost:8080/"
        },
        "id": "HEn2d8dNh7hP",
        "outputId": "a63d7c09-50a1-453c-8da3-fb956ed9cb2c"
      },
      "source": [
        "#How to do probabilistic sampling in numpy?\r\n",
        "#Randomly sample iris's species such that setose is twice the number of versicolor and virginica\r\n",
        "\r\n",
        "#Get the species column\r\n",
        "species = iris[:,4]\r\n",
        "\r\n",
        "np.random.seed(100)\r\n",
        "a = np.array(['Iris-setosa', 'Iris-versicolor', 'Iris-virginica'])\r\n",
        "species_out = np.random.choice(a, 150, p=[0.5,0.25,0.25])\r\n",
        "\r\n",
        "print(np.unique(species_out, return_counts = True))"
      ],
      "execution_count": 92,
      "outputs": [
        {
          "output_type": "stream",
          "text": [
            "(array(['Iris-setosa', 'Iris-versicolor', 'Iris-virginica'], dtype='<U15'), array([77, 37, 36]))\n"
          ],
          "name": "stdout"
        }
      ]
    },
    {
      "cell_type": "code",
      "metadata": {
        "colab": {
          "base_uri": "https://localhost:8080/"
        },
        "id": "OULVkthGjJA2",
        "outputId": "4dc8a2bb-a5d1-4e8a-d543-32fae3d84fef"
      },
      "source": [
        "#What is the value of second longest petallength of species setosa\r\n",
        "\r\n",
        "#Get the species and petal length columns\r\n",
        "petal_len_setosa = iris[iris[:,4]==b\"Iris-setosa\", [2]].astype('float')\r\n",
        "\r\n",
        "#Get the second last value\r\n",
        "np.unique(np.sort(petal_len_setosa))[-2]"
      ],
      "execution_count": 93,
      "outputs": [
        {
          "output_type": "execute_result",
          "data": {
            "text/plain": [
              "1.7"
            ]
          },
          "metadata": {
            "tags": []
          },
          "execution_count": 93
        }
      ]
    },
    {
      "cell_type": "code",
      "metadata": {
        "colab": {
          "base_uri": "https://localhost:8080/"
        },
        "id": "tXRvuKSRj765",
        "outputId": "43bc20d4-dc55-4fd9-e14c-e06f3ab376f2"
      },
      "source": [
        "#How to sort a 2D array by a column\r\n",
        "#Sort the iris dataset based on sepallength column.\r\n",
        "\r\n",
        "print(iris[iris[:,0].argsort()][:20])"
      ],
      "execution_count": 97,
      "outputs": [
        {
          "output_type": "stream",
          "text": [
            "[[b'4.3' b'3.0' b'1.1' b'0.1' b'Iris-setosa']\n",
            " [b'4.4' b'3.2' b'1.3' b'0.2' b'Iris-setosa']\n",
            " [b'4.4' b'3.0' b'1.3' b'0.2' b'Iris-setosa']\n",
            " [b'4.4' b'2.9' b'1.4' b'0.2' b'Iris-setosa']\n",
            " [b'4.5' b'2.3' b'1.3' b'0.3' b'Iris-setosa']\n",
            " [b'4.6' b'3.6' b'1.0' b'0.2' b'Iris-setosa']\n",
            " [b'4.6' b'3.1' b'1.5' b'0.2' b'Iris-setosa']\n",
            " [b'4.6' b'3.4' b'1.4' b'0.3' b'Iris-setosa']\n",
            " [b'4.6' b'3.2' b'1.4' b'0.2' b'Iris-setosa']\n",
            " [b'4.7' b'3.2' b'1.3' b'0.2' b'Iris-setosa']\n",
            " [b'4.7' b'3.2' b'1.6' b'0.2' b'Iris-setosa']\n",
            " [b'4.8' b'3.0' b'1.4' b'0.1' b'Iris-setosa']\n",
            " [b'4.8' b'3.0' b'1.4' b'0.3' b'Iris-setosa']\n",
            " [b'4.8' b'3.4' b'1.9' b'0.2' b'Iris-setosa']\n",
            " [b'4.8' b'3.4' b'1.6' b'0.2' b'Iris-setosa']\n",
            " [b'4.8' b'3.1' b'1.6' b'0.2' b'Iris-setosa']\n",
            " [b'4.9' b'2.4' b'3.3' b'1.0' b'Iris-versicolor']\n",
            " [b'4.9' b'2.5' b'4.5' b'1.7' b'Iris-virginica']\n",
            " [b'4.9' b'3.1' b'1.5' b'0.1' b'Iris-setosa']\n",
            " [b'4.9' b'3.1' b'1.5' b'0.1' b'Iris-setosa']]\n"
          ],
          "name": "stdout"
        }
      ]
    },
    {
      "cell_type": "code",
      "metadata": {
        "colab": {
          "base_uri": "https://localhost:8080/"
        },
        "id": "7gNwlR_-kmpT",
        "outputId": "ea7d79b0-f814-4772-c593-dd7e1fe8afcb"
      },
      "source": [
        "#Find the most frequent value of petal length (3rd column) in iris dataset.\r\n",
        "\r\n",
        "vals, counts = np.unique(iris[:,2],return_counts=True)\r\n",
        "print(vals)\r\n",
        "print(counts)\r\n",
        "print(vals[np.argmax(counts)])"
      ],
      "execution_count": 100,
      "outputs": [
        {
          "output_type": "stream",
          "text": [
            "[b'1.0' b'1.1' b'1.2' b'1.3' b'1.4' b'1.5' b'1.6' b'1.7' b'1.9' b'3.0'\n",
            " b'3.3' b'3.5' b'3.6' b'3.7' b'3.8' b'3.9' b'4.0' b'4.1' b'4.2' b'4.3'\n",
            " b'4.4' b'4.5' b'4.6' b'4.7' b'4.8' b'4.9' b'5.0' b'5.1' b'5.2' b'5.3'\n",
            " b'5.4' b'5.5' b'5.6' b'5.7' b'5.8' b'5.9' b'6.0' b'6.1' b'6.3' b'6.4'\n",
            " b'6.6' b'6.7' b'6.9']\n",
            "[ 1  1  2  7 12 14  7  4  2  1  2  2  1  1  1  3  5  3  4  2  4  8  3  5\n",
            "  4  5  4  8  2  2  2  3  6  3  3  2  2  3  1  1  1  2  1]\n",
            "b'1.5'\n"
          ],
          "name": "stdout"
        }
      ]
    },
    {
      "cell_type": "code",
      "metadata": {
        "colab": {
          "base_uri": "https://localhost:8080/"
        },
        "id": "jgTJUh6g3IjI",
        "outputId": "568a1fc3-cca9-411b-844b-5600858f51cf"
      },
      "source": [
        "# Find the position of the first occurrence of a value greater than 1.0 in petalwidth 4th column of iris dataset\r\n",
        "\r\n",
        "np.argwhere(iris[:,3].astype(float)>1.0)[0]\r\n",
        "\r\n",
        "#>>>>OR<<<<\r\n",
        "# np.where(iris[:,3].astype(float)>1.0)"
      ],
      "execution_count": 101,
      "outputs": [
        {
          "output_type": "execute_result",
          "data": {
            "text/plain": [
              "array([50])"
            ]
          },
          "metadata": {
            "tags": []
          },
          "execution_count": 101
        }
      ]
    },
    {
      "cell_type": "code",
      "metadata": {
        "colab": {
          "base_uri": "https://localhost:8080/"
        },
        "id": "ot7UoV-R3fI0",
        "outputId": "13dcf267-bfc6-476d-dc8d-c8d72e8ea118"
      },
      "source": [
        "#From the array a, replace all values greater than 30 to 30 and less than 10 to 10.\r\n",
        "np.random.seed(100)\r\n",
        "a = np.random.uniform(1,50,20)\r\n",
        "print(np.where(a<10,10, np.where(a>30,30,a)))"
      ],
      "execution_count": 120,
      "outputs": [
        {
          "output_type": "stream",
          "text": [
            "[27.626842 14.6401   21.801362 30.       10.       10.       30.\n",
            " 30.       10.       29.179573 30.       11.250904 10.081083 10.\n",
            " 11.765177 30.       30.       10.       30.       14.429614]\n"
          ],
          "name": "stdout"
        }
      ]
    },
    {
      "cell_type": "code",
      "metadata": {
        "colab": {
          "base_uri": "https://localhost:8080/"
        },
        "id": "_6PGs1BZ4lY-",
        "outputId": "8b2ba6f7-be9a-461c-d3cb-2f9c30b8aa1c"
      },
      "source": [
        "#Get the positions of top 5 maximum values in a given array a\r\n",
        "np.random.seed(100)\r\n",
        "a = np.random.uniform(1,50,20)\r\n",
        "a\r\n",
        "# #Method 1 ( to get the indexes)\r\n",
        "# np.argpartition(a,-5)[:5]\r\n",
        "\r\n",
        "# #Method 2(to get the values)\r\n",
        "a[a.argsort()][-5:]\r\n"
      ],
      "execution_count": 130,
      "outputs": [
        {
          "output_type": "execute_result",
          "data": {
            "text/plain": [
              "array([40.995013, 41.466785, 42.39403 , 44.674776, 48.952565])"
            ]
          },
          "metadata": {
            "tags": []
          },
          "execution_count": 130
        }
      ]
    },
    {
      "cell_type": "code",
      "metadata": {
        "colab": {
          "base_uri": "https://localhost:8080/"
        },
        "id": "ZUlZn9vn7PKh",
        "outputId": "3b88c7a3-0c0b-4702-d2cc-d512068e3ab2"
      },
      "source": [
        "#How to compute the row wise counts of all possible values in an array?\r\n",
        "# Output contains 10 columns representing numbers from 1 to 10. The values are the counts of the numbers in the respective rows.\r\n",
        "# For example, Cell(0,2) has the value 2, which means, the number 3 occurs exactly 2 times in the 1st row.\r\n",
        "\r\n",
        "np.random.seed(100)\r\n",
        "arr = np.random.randint(1,11,(6,10))\r\n",
        "arr"
      ],
      "execution_count": 131,
      "outputs": [
        {
          "output_type": "execute_result",
          "data": {
            "text/plain": [
              "array([[ 9,  9,  4,  8,  8,  1,  5,  3,  6,  3],\n",
              "       [ 3,  3,  2,  1,  9,  5,  1, 10,  7,  3],\n",
              "       [ 5,  2,  6,  4,  5,  5,  4,  8,  2,  2],\n",
              "       [ 8,  8,  1,  3, 10, 10,  4,  3,  6,  9],\n",
              "       [ 2,  1,  8,  7,  3,  1,  9,  3,  6,  2],\n",
              "       [ 9,  2,  6,  5,  3,  9,  4,  6,  1, 10]])"
            ]
          },
          "metadata": {
            "tags": []
          },
          "execution_count": 131
        }
      ]
    },
    {
      "cell_type": "code",
      "metadata": {
        "colab": {
          "base_uri": "https://localhost:8080/"
        },
        "id": "H4d5_yBp77Fa",
        "outputId": "1fca5cfa-d5b4-4f9f-d7a1-a9d6aa759799"
      },
      "source": [
        "###CONTINUE\r\n",
        "def counts_of_all_values_rowwise(arr2d):\r\n",
        "  #Unique values and its counts row wise\r\n",
        "  num_counts_array = [np.unique(row, return_counts=True)for row in arr2d]\r\n",
        "\r\n",
        "  #Count of all values row wise\r\n",
        "  return([[int(b[a==i])if i in a else 0 for i in np.unique(arr2d)]for a,b in num_counts_array])\r\n",
        "\r\n",
        "print(np.arange(1,11))\r\n",
        "counts_of_all_values_rowwise(arr)"
      ],
      "execution_count": 132,
      "outputs": [
        {
          "output_type": "stream",
          "text": [
            "[ 1  2  3  4  5  6  7  8  9 10]\n"
          ],
          "name": "stdout"
        },
        {
          "output_type": "execute_result",
          "data": {
            "text/plain": [
              "[[1, 0, 2, 1, 1, 1, 0, 2, 2, 0],\n",
              " [2, 1, 3, 0, 1, 0, 1, 0, 1, 1],\n",
              " [0, 3, 0, 2, 3, 1, 0, 1, 0, 0],\n",
              " [1, 0, 2, 1, 0, 1, 0, 2, 1, 2],\n",
              " [2, 2, 2, 0, 0, 1, 1, 1, 1, 0],\n",
              " [1, 1, 1, 1, 1, 2, 0, 0, 2, 1]]"
            ]
          },
          "metadata": {
            "tags": []
          },
          "execution_count": 132
        }
      ]
    },
    {
      "cell_type": "code",
      "metadata": {
        "colab": {
          "base_uri": "https://localhost:8080/"
        },
        "id": "6_lLnPWL9GMs",
        "outputId": "03db9c97-7f61-4939-9b42-82c167e0f08b"
      },
      "source": [
        "#Convert array_of_arrays into a flat linear 1d array\r\n",
        "\r\n",
        "arr1 = np.arange(3)\r\n",
        "arr2 = np.arange(3,7)\r\n",
        "arr3 = np.arange(7,10)\r\n",
        "array_of_arrays = np.array([arr1,arr2,arr3])\r\n",
        "\r\n",
        "print(array_of_arrays)\r\n",
        "\r\n",
        "#Method 01\r\n",
        "\r\n",
        "arr_2d = np.concatenate(array_of_arrays)\r\n",
        "print(arr_2d)"
      ],
      "execution_count": 135,
      "outputs": [
        {
          "output_type": "stream",
          "text": [
            "[array([0, 1, 2]) array([3, 4, 5, 6]) array([7, 8, 9])]\n",
            "[0 1 2 3 4 5 6 7 8 9]\n"
          ],
          "name": "stdout"
        },
        {
          "output_type": "stream",
          "text": [
            "/usr/local/lib/python3.6/dist-packages/ipykernel_launcher.py:6: VisibleDeprecationWarning: Creating an ndarray from ragged nested sequences (which is a list-or-tuple of lists-or-tuples-or ndarrays with different lengths or shapes) is deprecated. If you meant to do this, you must specify 'dtype=object' when creating the ndarray\n",
            "  \n"
          ],
          "name": "stderr"
        }
      ]
    },
    {
      "cell_type": "code",
      "metadata": {
        "colab": {
          "base_uri": "https://localhost:8080/"
        },
        "id": "1nVTOv23-EY_",
        "outputId": "22604e27-ff31-4a07-cb0c-19872bb29dc6"
      },
      "source": [
        "#Compute the one-hot encodings (dummy binary variables for each unique value in the array)\r\n",
        "\r\n",
        "np.random.seed(100)\r\n",
        "arr = np.random.randint(1,4,size = 6)\r\n",
        "print(arr)\r\n",
        "\r\n",
        "#Method 1\r\n",
        "# def one_hot_encodings(arr):\r\n",
        "#     uniqs = np.unique(arr) #output-->[1,3]\r\n",
        "#     out = np.zeros((arr.shape[0], uniqs.shape[0]))\r\n",
        "#     for i, k in enumerate(arr):\r\n",
        "#         out[i, k-1] = 1\r\n",
        "#     return out\r\n",
        "\r\n",
        "# one_hot_encodings(arr)\r\n",
        "\r\n",
        "#Method 2\r\n",
        "(arr[:, None] == np.unique(arr)).view(np.int8)"
      ],
      "execution_count": 146,
      "outputs": [
        {
          "output_type": "stream",
          "text": [
            "[1 1 1 3 3 1]\n"
          ],
          "name": "stdout"
        },
        {
          "output_type": "execute_result",
          "data": {
            "text/plain": [
              "array([[1, 0],\n",
              "       [1, 0],\n",
              "       [1, 0],\n",
              "       [0, 1],\n",
              "       [0, 1],\n",
              "       [1, 0]], dtype=int8)"
            ]
          },
          "metadata": {
            "tags": []
          },
          "execution_count": 146
        }
      ]
    },
    {
      "cell_type": "code",
      "metadata": {
        "colab": {
          "base_uri": "https://localhost:8080/"
        },
        "id": "1Wz-GZz6-RYZ",
        "outputId": "639b07e9-1a9e-4031-ac0b-e979415f4e95"
      },
      "source": [
        "#Create row numbers grouped by a categorical variable. Use the following sample from iris species as input\r\n",
        "\r\n",
        "url = 'https://archive.ics.uci.edu/ml/machine-learning-databases/iris/iris.data'\r\n",
        "species = np.genfromtxt(url, delimiter=',', dtype='str', usecols=4)\r\n",
        "species_small = np.sort(np.random.choice(species, size=20))\r\n",
        "print(species_small)\r\n",
        "\r\n",
        "\r\n",
        "print([i for val in np.unique(species_small) for i, grp in enumerate(species_small[species_small==val])])"
      ],
      "execution_count": 148,
      "outputs": [
        {
          "output_type": "stream",
          "text": [
            "['Iris-setosa' 'Iris-setosa' 'Iris-setosa' 'Iris-setosa' 'Iris-setosa'\n",
            " 'Iris-setosa' 'Iris-setosa' 'Iris-setosa' 'Iris-versicolor'\n",
            " 'Iris-versicolor' 'Iris-versicolor' 'Iris-versicolor' 'Iris-versicolor'\n",
            " 'Iris-versicolor' 'Iris-virginica' 'Iris-virginica' 'Iris-virginica'\n",
            " 'Iris-virginica' 'Iris-virginica' 'Iris-virginica']\n",
            "[0, 1, 2, 3, 4, 5, 6, 7, 0, 1, 2, 3, 4, 5, 0, 1, 2, 3, 4, 5]\n"
          ],
          "name": "stdout"
        }
      ]
    },
    {
      "cell_type": "code",
      "metadata": {
        "colab": {
          "base_uri": "https://localhost:8080/"
        },
        "id": "v3KsMp9wAgkS",
        "outputId": "dd578d1a-d900-436e-a7ba-57393bab1934"
      },
      "source": [
        "#Create group ids based on a given categorical variable. Use the following sample from iris species as input\r\n",
        "\r\n",
        "url = 'https://archive.ics.uci.edu/ml/machine-learning-databases/iris/iris.data'\r\n",
        "species = np.genfromtxt(url, delimiter=',', dtype='str', usecols=4)\r\n",
        "np.random.seed(100)\r\n",
        "species_small = np.sort(np.random.choice(species, size=20))\r\n",
        "species_small\r\n",
        "#> array(['Iris-setosa', 'Iris-setosa', 'Iris-setosa', 'Iris-setosa',\r\n",
        "#>        'Iris-setosa', 'Iris-versicolor', 'Iris-versicolor',\r\n",
        "#>        'Iris-versicolor', 'Iris-versicolor', 'Iris-versicolor',\r\n",
        "#>        'Iris-versicolor', 'Iris-versicolor', 'Iris-versicolor',\r\n",
        "#>        'Iris-versicolor', 'Iris-virginica', 'Iris-virginica',\r\n",
        "#>        'Iris-virginica', 'Iris-virginica', 'Iris-virginica',\r\n",
        "#>        'Iris-virginica'],\r\n",
        "#>       dtype='<U15')\r\n",
        "# Solution:\r\n",
        "output = [np.argwhere(np.unique(species_small) == s).tolist()[0][0] for val in np.unique(species_small) for s in species_small[species_small==val]]\r\n",
        "print(output)\r\n"
      ],
      "execution_count": 151,
      "outputs": [
        {
          "output_type": "stream",
          "text": [
            "[0, 0, 0, 0, 0, 1, 1, 1, 1, 1, 1, 1, 1, 1, 2, 2, 2, 2, 2, 2]\n"
          ],
          "name": "stdout"
        }
      ]
    },
    {
      "cell_type": "code",
      "metadata": {
        "colab": {
          "base_uri": "https://localhost:8080/"
        },
        "id": "ajswfO16A3YC",
        "outputId": "60a499cf-5acd-4a5e-b900-7bb548155b26"
      },
      "source": [
        "#Find the maximum value in each row of a numpy array 2d\r\n",
        "\r\n",
        "np.random.seed(100)\r\n",
        "a = np.random.randint(1,10,[5,3])\r\n",
        "print(a)\r\n",
        "\r\n",
        "print(\"printing max values\")\r\n",
        "print(np.amax(a, axis =1))\r\n",
        "\r\n",
        "print(\"printing index of  max values\")\r\n",
        "print(np.argmax(a, axis =1))\r\n",
        "\r\n",
        "#MEthod 2\r\n",
        "print(np.apply_along_axis(np.max, arr = a, axis=1)"
      ],
      "execution_count": 158,
      "outputs": [
        {
          "output_type": "stream",
          "text": [
            "[[9 9 4]\n",
            " [8 8 1]\n",
            " [5 3 6]\n",
            " [3 3 3]\n",
            " [2 1 9]]\n",
            "printing max values\n",
            "[9 8 6 3 9]\n",
            "printing index of  max values\n",
            "[0 0 2 0 2]\n"
          ],
          "name": "stdout"
        }
      ]
    },
    {
      "cell_type": "code",
      "metadata": {
        "colab": {
          "base_uri": "https://localhost:8080/"
        },
        "id": "CSTMceNfBXRx",
        "outputId": "730b7086-1c68-416a-8ffa-2f77577883c4"
      },
      "source": [
        "#Compute the min-by-max for each row for given 2d numpy array\r\n",
        "\r\n",
        "np.random.randint(100)\r\n",
        "a = np.random.randint(1,10,[5,3])\r\n",
        "\r\n",
        "np.apply_along_axis(lambda x: np.min(x)/np.max(x), arr=a, axis=1)"
      ],
      "execution_count": 159,
      "outputs": [
        {
          "output_type": "execute_result",
          "data": {
            "text/plain": [
              "array([0.142857, 0.4     , 0.666667, 0.5     , 0.25    ])"
            ]
          },
          "metadata": {
            "tags": []
          },
          "execution_count": 159
        }
      ]
    },
    {
      "cell_type": "code",
      "metadata": {
        "colab": {
          "base_uri": "https://localhost:8080/"
        },
        "id": "R6urinWMKMxx",
        "outputId": "1806d8a3-b26c-4b2d-a98b-bf6595a6826e"
      },
      "source": [
        "#Find the duplicate entries (2nd occurrence onwards) in the given numpy array and mark them as True. First time occurrences should be False.\r\n",
        "np.random.seed(100)\r\n",
        "a = np.random.randint(0,5,10)\r\n",
        "print(a)\r\n",
        "#Create an full True array\r\n",
        "out = np.full(a.shape[0], True)\r\n",
        "print(out)\r\n",
        "#Find the index positions of unique elements\r\n",
        "unique_positions = np.unique(a, return_index=True)[1]\r\n",
        "print(unique_positions)\r\n",
        "out[unique_positions] = False\r\n",
        "\r\n",
        "print(out)"
      ],
      "execution_count": 163,
      "outputs": [
        {
          "output_type": "stream",
          "text": [
            "[0 0 3 0 2 4 2 2 2 2]\n",
            "[ True  True  True  True  True  True  True  True  True  True]\n",
            "[0 4 2 5]\n",
            "[False  True False  True False False  True  True  True  True]\n"
          ],
          "name": "stdout"
        }
      ]
    },
    {
      "cell_type": "code",
      "metadata": {
        "colab": {
          "base_uri": "https://localhost:8080/"
        },
        "id": "Yb_LyaDXMQeo",
        "outputId": "394e2836-ee4e-4861-d218-1b40adf8f940"
      },
      "source": [
        "#Find the mean of a numeric column grouped by a categorical column in a 2D numpy array\r\n",
        "\r\n",
        "url = 'https://archive.ics.uci.edu/ml/machine-learning-databases/iris/iris.data'\r\n",
        "iris = np.genfromtxt(url, delimiter=',', dtype='object')\r\n",
        "names = ('sepallength', 'sepalwidth', 'petallength', 'petalwidth', 'species')\r\n",
        "\r\n",
        "numeric_col = iris[:,1].astype('float') #sepalwidth\r\n",
        "grouping_col = iris[:,4] #species\r\n",
        "\r\n",
        "output = []\r\n",
        "\r\n",
        "for group_val in np.unique(grouping_col):\r\n",
        "  print(group_val)\r\n",
        "  output.append([group_val, numeric_col[grouping_col==group_val].mean()])\r\n",
        "\r\n",
        "print(output)"
      ],
      "execution_count": 167,
      "outputs": [
        {
          "output_type": "stream",
          "text": [
            "b'Iris-setosa'\n",
            "b'Iris-versicolor'\n",
            "b'Iris-virginica'\n",
            "[[b'Iris-setosa', 3.418], [b'Iris-versicolor', 2.7700000000000005], [b'Iris-virginica', 2.974]]\n"
          ],
          "name": "stdout"
        }
      ]
    },
    {
      "cell_type": "code",
      "metadata": {
        "colab": {
          "base_uri": "https://localhost:8080/"
        },
        "id": "P86Q7qaHREtH",
        "outputId": "2ffea5a2-e3d4-455d-ca48-748512c16bc2"
      },
      "source": [
        "#Drop all nan values from a 1D numpy array\r\n",
        "\r\n",
        "a = np.array([1,2,3,np.nan,5,6,7,np.nan])\r\n",
        "\r\n",
        "nan = a[np.isnan(a)]\r\n",
        "print(nan)\r\n",
        "num = a[~np.isnan(a)] #If u use ~, it means it will show opposite ouput for what u asked\r\n",
        "print(num)"
      ],
      "execution_count": 180,
      "outputs": [
        {
          "output_type": "stream",
          "text": [
            "[nan nan]\n",
            "[1. 2. 3. 5. 6. 7.]\n"
          ],
          "name": "stdout"
        }
      ]
    },
    {
      "cell_type": "code",
      "metadata": {
        "colab": {
          "base_uri": "https://localhost:8080/"
        },
        "id": "J_BfjhruSzW8",
        "outputId": "d1a6e663-57a7-4918-b2d5-48c8e743134d"
      },
      "source": [
        "# Compute the euclidean distance between two arrays a and b\r\n",
        "\r\n",
        "a = np.array([1,2,3,4,5])\r\n",
        "b = np.array([4,5,6,7,8])\r\n",
        "\r\n",
        "dist = np.linalg.norm(a-b)\r\n",
        "dist"
      ],
      "execution_count": 181,
      "outputs": [
        {
          "output_type": "execute_result",
          "data": {
            "text/plain": [
              "6.708203932499369"
            ]
          },
          "metadata": {
            "tags": []
          },
          "execution_count": 181
        }
      ]
    },
    {
      "cell_type": "code",
      "metadata": {
        "colab": {
          "base_uri": "https://localhost:8080/"
        },
        "id": "iYUrWkedTGgc",
        "outputId": "e3a6617b-35a3-44ea-c486-d68fb26f15fd"
      },
      "source": [
        "#Find all the peaks(local maxima) in a 1D numpy array a. Peaks are points surrounded by smaller values on both sides.\r\n",
        "\r\n",
        "a = np.array([1, 3, 7, 1, 2, 6, 0, 1])\r\n",
        "\r\n",
        "a = np.array([1, 3, 7, 1, 2, 6, 0, 1])\r\n",
        "doublediff = np.diff(np.sign(np.diff(a)))\r\n",
        "peak_locations = np.where(doublediff == -2)[0] + 1\r\n",
        "peak_locations\r\n",
        "#where, 2 and 5 are the positions of peak values 7 and 6."
      ],
      "execution_count": 182,
      "outputs": [
        {
          "output_type": "execute_result",
          "data": {
            "text/plain": [
              "array([2, 5])"
            ]
          },
          "metadata": {
            "tags": []
          },
          "execution_count": 182
        }
      ]
    },
    {
      "cell_type": "code",
      "metadata": {
        "colab": {
          "base_uri": "https://localhost:8080/",
          "height": 132
        },
        "id": "xcffwfY8TgOx",
        "outputId": "c1d4006c-9016-4ebe-a3e2-dc614be0e3ac"
      },
      "source": [
        "#Subtract a 1d array from a 2d array, where each item of 1d array subtracts from respective row?\r\n",
        "\r\n",
        "#Subtract the 1d array b_1d from the 2d array a_2d, such that each item of b_1d subtracts from respective row of a_2d.\r\n",
        "\r\n",
        "a_2d = np.array([[3,3,3],[4,4,4],[5,5,5]])\r\n",
        "b_1d = np.array([1,1,1]\r\n",
        "                \r\n",
        "print(a_2d - b_1d[:,None])"
      ],
      "execution_count": 184,
      "outputs": [
        {
          "output_type": "error",
          "ename": "SyntaxError",
          "evalue": "ignored",
          "traceback": [
            "\u001b[0;36m  File \u001b[0;32m\"<ipython-input-184-fff2db6817c8>\"\u001b[0;36m, line \u001b[0;32m8\u001b[0m\n\u001b[0;31m    print(a_2d - b_1d[:,None])\u001b[0m\n\u001b[0m        ^\u001b[0m\n\u001b[0;31mSyntaxError\u001b[0m\u001b[0;31m:\u001b[0m invalid syntax\n"
          ]
        }
      ]
    },
    {
      "cell_type": "code",
      "metadata": {
        "colab": {
          "base_uri": "https://localhost:8080/"
        },
        "id": "ZITcMOyiT6uj",
        "outputId": "98e85c1d-7e3a-4855-bf1f-e0df3f08a8eb"
      },
      "source": [
        "#  Find the index of 5th repetition of number 1 in x.\r\n",
        "\r\n",
        "x = np.array([1, 2, 1, 1, 3, 4, 3, 1, 1, 2, 1, 1, 2])\r\n",
        "n=5\r\n",
        "np.where(x==1)[0][n-1]"
      ],
      "execution_count": 188,
      "outputs": [
        {
          "output_type": "execute_result",
          "data": {
            "text/plain": [
              "8"
            ]
          },
          "metadata": {
            "tags": []
          },
          "execution_count": 188
        }
      ]
    },
    {
      "cell_type": "code",
      "metadata": {
        "colab": {
          "base_uri": "https://localhost:8080/"
        },
        "id": "oBcGCK4KUGCK",
        "outputId": "906c952d-8b58-46c9-b45f-fcaed5c31f2e"
      },
      "source": [
        "# Convert numpy's datetime64 object to datetime's datetime object\r\n",
        "\r\n",
        "dt64 = np.datetime64('2018-02-25 22:10:10')\r\n",
        "from datetime import datetime\r\n",
        "dt64.astype(datetime)"
      ],
      "execution_count": 190,
      "outputs": [
        {
          "output_type": "execute_result",
          "data": {
            "text/plain": [
              "datetime.datetime(2018, 2, 25, 22, 10, 10)"
            ]
          },
          "metadata": {
            "tags": []
          },
          "execution_count": 190
        }
      ]
    },
    {
      "cell_type": "code",
      "metadata": {
        "colab": {
          "base_uri": "https://localhost:8080/"
        },
        "id": "ovQS3613Ug0s",
        "outputId": "10867119-2a10-4bcf-de11-02c915126eca"
      },
      "source": [
        "# Compute the moving average of window size 3, for the given 1D array.\r\n",
        "\r\n",
        "def moving_average(a, n=3) :\r\n",
        "    ret = np.cumsum(a, dtype=float)\r\n",
        "    ret[n:] = ret[n:] - ret[:-n]\r\n",
        "    return ret[n - 1:] / n\r\n",
        "\r\n",
        "np.random.seed(100)\r\n",
        "Z = np.random.randint(10, size=10)\r\n",
        "print('array: ', Z)\r\n",
        "# Method 1\r\n",
        "moving_average(Z, n=3).round(2)\r\n",
        "\r\n",
        "# Source: https://stackoverflow.com/questions/14313510/how-to-calculate-moving-average-using-numpy"
      ],
      "execution_count": 192,
      "outputs": [
        {
          "output_type": "stream",
          "text": [
            "array:  [8 8 3 7 7 0 4 2 5 2]\n"
          ],
          "name": "stdout"
        },
        {
          "output_type": "execute_result",
          "data": {
            "text/plain": [
              "array([6.33, 6.  , 5.67, 4.67, 3.67, 2.  , 3.67, 3.  ])"
            ]
          },
          "metadata": {
            "tags": []
          },
          "execution_count": 192
        }
      ]
    },
    {
      "cell_type": "code",
      "metadata": {
        "colab": {
          "base_uri": "https://localhost:8080/"
        },
        "id": "aUplW2zaU0y3",
        "outputId": "dc13799b-709d-45e3-b61f-4e1c21ddc4f1"
      },
      "source": [
        "# Create a numpy array of length 10, starting from 5 and has a step of 3 between consecutive numbers\r\n",
        "\r\n",
        "length = 10\r\n",
        "start = 5\r\n",
        "step = 3\r\n",
        "\r\n",
        "def seq(start, length, step):\r\n",
        "    end = start + (step*length)\r\n",
        "    return np.arange(start, end, step)\r\n",
        "\r\n",
        "seq(start, length, step)"
      ],
      "execution_count": 193,
      "outputs": [
        {
          "output_type": "execute_result",
          "data": {
            "text/plain": [
              "array([ 5,  8, 11, 14, 17, 20, 23, 26, 29, 32])"
            ]
          },
          "metadata": {
            "tags": []
          },
          "execution_count": 193
        }
      ]
    },
    {
      "cell_type": "code",
      "metadata": {
        "colab": {
          "base_uri": "https://localhost:8080/"
        },
        "id": "LDGesfxTU5iz",
        "outputId": "a4ee892b-e2be-4d48-e4d4-d8d09af82eea"
      },
      "source": [
        "# To create strides from a given 1D array?\r\n",
        "# From the given 1d array arr, generate a 2d matrix using strides, with a window length of 4 and strides of 2, like [[0,1,2,3], [2,3,4,5], [4,5,6,7]..]\r\n",
        "\r\n",
        "def gen_strides(a, stride_len=5, window_len=5):\r\n",
        "    n_strides = ((a.size-window_len)//stride_len) + 1\r\n",
        "    # return np.array([a[s:(s+window_len)] for s in np.arange(0, a.size, stride_len)[:n_strides]])\r\n",
        "    return np.array([a[s:(s+window_len)] for s in np.arange(0, n_strides*stride_len, stride_len)])\r\n",
        "\r\n",
        "print(gen_strides(np.arange(15), stride_len=2, window_len=4))\r\n"
      ],
      "execution_count": 195,
      "outputs": [
        {
          "output_type": "stream",
          "text": [
            "[[ 0  1  2  3]\n",
            " [ 2  3  4  5]\n",
            " [ 4  5  6  7]\n",
            " [ 6  7  8  9]\n",
            " [ 8  9 10 11]\n",
            " [10 11 12 13]]\n"
          ],
          "name": "stdout"
        }
      ]
    },
    {
      "cell_type": "markdown",
      "metadata": {
        "id": "6yFPajEiVwVX"
      },
      "source": [
        "#SOURACE - \r\n",
        "https://www.machinelearningplus.com/python/101-numpy-exercises-python/\r\n"
      ]
    },
    {
      "cell_type": "markdown",
      "metadata": {
        "id": "Wlr3BCOpV9Os"
      },
      "source": [
        "#THANK YOU\r\n",
        "\r\n",
        "---\r\n",
        "\r\n"
      ]
    },
    {
      "cell_type": "markdown",
      "metadata": {
        "id": "TgN2DNEpV5_q"
      },
      "source": [
        ""
      ]
    }
  ]
}